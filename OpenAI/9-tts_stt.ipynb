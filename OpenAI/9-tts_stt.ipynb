{
 "cells": [
  {
   "cell_type": "markdown",
   "id": "79c32d31",
   "metadata": {},
   "source": [
    "## TTS"
   ]
  },
  {
   "cell_type": "code",
   "execution_count": 1,
   "id": "eabe48b1",
   "metadata": {},
   "outputs": [],
   "source": [
    "import openai"
   ]
  },
  {
   "cell_type": "code",
   "execution_count": 2,
   "id": "40949d14",
   "metadata": {},
   "outputs": [],
   "source": [
    "client = openai.Client()"
   ]
  },
  {
   "cell_type": "code",
   "execution_count": 3,
   "id": "698b01c7",
   "metadata": {},
   "outputs": [],
   "source": [
    "texto = \"\"\"\n",
    "    Python é uma linguagem de programação popular e de fácil aprendizado, conhecida por \n",
    "    sua sintaxe simples e legível. Ela é amplamente utilizada em diversas áreas, como \n",
    "    desenvolvimento web, automação, análise de dados, inteligência artificial e \n",
    "    ciência de dados. Uma das principais características do Python é sua versatilidade, \n",
    "    permitindo que seja usado para projetos pequenos e grandes. Além disso, Python possui \n",
    "    uma grande comunidade de desenvolvedores e uma vasta quantidade de bibliotecas que \n",
    "    facilitam o trabalho, como pandas, NumPy e Django.A linguagem também é excelente para \n",
    "    iniciantes, pois permite escrever código de forma clara e direta. Com uma ampla gama \n",
    "    de tutoriais e recursos disponíveis, aprender Python pode ser uma excelente escolha \n",
    "    para quem deseja começar na programação.\n",
    "\"\"\""
   ]
  },
  {
   "cell_type": "code",
   "execution_count": 4,
   "id": "d1171df6",
   "metadata": {},
   "outputs": [],
   "source": [
    "resposta = client.audio.speech.create(\n",
    "    model=\"tts-1\",\n",
    "    voice=\"echo\",\n",
    "    input=texto\n",
    ")"
   ]
  },
  {
   "cell_type": "code",
   "execution_count": 5,
   "id": "5d89a501",
   "metadata": {},
   "outputs": [],
   "source": [
    "arquivo = \"files/voz.mp3\"\n",
    "resposta.write_to_file(arquivo)"
   ]
  },
  {
   "cell_type": "code",
   "execution_count": null,
   "id": "64ef4582",
   "metadata": {},
   "outputs": [],
   "source": []
  },
  {
   "cell_type": "markdown",
   "id": "748f4c4f",
   "metadata": {},
   "source": [
    "## STT"
   ]
  },
  {
   "cell_type": "code",
   "execution_count": 6,
   "id": "cdd94e52",
   "metadata": {},
   "outputs": [],
   "source": [
    "audio = open(\"files/curso.mp3\", \"rb\")\n",
    "transcricao = client.audio.transcriptions.create(\n",
    "    model=\"whisper-1\",\n",
    "    file=audio\n",
    ")"
   ]
  },
  {
   "cell_type": "code",
   "execution_count": 7,
   "id": "b2bc0d9b",
   "metadata": {},
   "outputs": [
    {
     "name": "stdout",
     "output_type": "stream",
     "text": [
      "Seja muito bem-vindo e bem-vinda ao curso Desbravando a IA com Python Explorando modelos de Rugged Face Neste curso eu quero te mostrar uma das maiores plataformas de inteligência artificial Que possui diversos modelos prontos que é a plataforma do Rugged Face E o meu objetivo nesse curso é explorar dois tipos de modelos Modelos relacionados a processamento de linguagem natural Onde estaremos trabalhando com análise de sentimentos Vamos trabalhar também com informações de perguntas e respostas Vamos trabalhar também com modelos que nos ajudem a resumir textos e assim por diante Por outro lado nós teremos também modelos relacionados a visão computacional Estaremos trabalhando com aplicações para segmentar imagens, classificar imagens, detectar objetos e muito mais Além disso, em algumas sessões você vai ter a oportunidade de construir o seu modelo Uma interface web para o seu modelo utilizando a biblioteca Gradle E também vamos aprender a colocar a aplicação que construímos em produção Utilizando o Rugged Face no Space Espero que você possa estar empolgado para esse curso Pois eu estou muito empolgado para disseminar esse conhecimento para você\n"
     ]
    }
   ],
   "source": [
    "print(transcricao.text)"
   ]
  },
  {
   "cell_type": "code",
   "execution_count": 8,
   "id": "c4369c93",
   "metadata": {},
   "outputs": [],
   "source": [
    "audio = open(\"files/curso.mp3\", \"rb\")\n",
    "transcricao = client.audio.transcriptions.create(\n",
    "    model=\"whisper-1\",\n",
    "    file=audio,\n",
    "    prompt=\"Essa é a transcrição de uma aula de apresentação do curso Hugging Face. \\\n",
    "        Nesse curso nós usamos a biblioteca Gradio como interface web\",\n",
    "    response_format=\"srt\"\n",
    ")"
   ]
  },
  {
   "cell_type": "code",
   "execution_count": 9,
   "id": "3ab58c8d",
   "metadata": {},
   "outputs": [
    {
     "name": "stdout",
     "output_type": "stream",
     "text": [
      "1\n",
      "00:00:00,320 --> 00:00:07,320\n",
      "Seja muito bem vindo e bem vinda ao curso Desbravando a IA com Python, explorando modelos\n",
      "\n",
      "2\n",
      "00:00:07,320 --> 00:00:09,560\n",
      "de Hugging Face.\n",
      "\n",
      "3\n",
      "00:00:09,560 --> 00:00:15,960\n",
      "Neste curso eu quero te mostrar uma das maiores plataformas de inteligência artificial que\n",
      "\n",
      "4\n",
      "00:00:15,960 --> 00:00:21,480\n",
      "possui diversos modelos prontos que é a plataforma do Hugging Face.\n",
      "\n",
      "5\n",
      "00:00:21,480 --> 00:00:27,600\n",
      "E o meu objetivo neste curso é explorar dois tipos de modelos, modelos relacionados a processamento\n",
      "\n",
      "6\n",
      "00:00:27,600 --> 00:00:34,599\n",
      "de linguagem natural, onde estaremos trabalhando com análise de sentimentos, vamos trabalhar\n",
      "\n",
      "7\n",
      "00:00:34,599 --> 00:00:42,279\n",
      "também com informações de perguntas e respostas, vamos trabalhar também com modelos que nos\n",
      "\n",
      "8\n",
      "00:00:42,279 --> 00:00:45,959\n",
      "ajudem a resumir textos e assim por diante.\n",
      "\n",
      "9\n",
      "00:00:45,959 --> 00:00:51,279\n",
      "Por outro lado, nós teremos também modelos relacionados a visão computacional, estaremos\n",
      "\n",
      "10\n",
      "00:00:51,279 --> 00:00:57,279\n",
      "trabalhando com aplicações para segmentar imagens, classificar imagens, detectar objetos\n",
      "\n",
      "11\n",
      "00:00:57,279 --> 00:00:58,840\n",
      "e muito mais.\n",
      "\n",
      "12\n",
      "00:00:58,840 --> 00:01:05,919\n",
      "Além disso, em algumas sessões você vai ter a oportunidade de construir o seu modelo,\n",
      "\n",
      "13\n",
      "00:01:05,919 --> 00:01:11,279\n",
      "uma interface web para o seu modelo utilizando a biblioteca Gradio e também vamos aprender\n",
      "\n",
      "14\n",
      "00:01:11,279 --> 00:01:18,040\n",
      "a colocar a aplicação que construímos em produção utilizando o Hugging Face no Space.\n",
      "\n",
      "15\n",
      "00:01:18,040 --> 00:01:22,760\n",
      "Espero que você possa estar empolgado para este curso, pois estou muito empolgado para\n",
      "\n",
      "16\n",
      "00:01:22,760 --> 00:01:24,680\n",
      "disseminar este conhecimento para você.\n",
      "\n",
      "\n",
      "\n"
     ]
    }
   ],
   "source": [
    "print(transcricao)"
   ]
  },
  {
   "cell_type": "code",
   "execution_count": null,
   "id": "f8ac3fe2",
   "metadata": {},
   "outputs": [],
   "source": []
  }
 ],
 "metadata": {
  "kernelspec": {
   "display_name": "env",
   "language": "python",
   "name": "python3"
  },
  "language_info": {
   "codemirror_mode": {
    "name": "ipython",
    "version": 3
   },
   "file_extension": ".py",
   "mimetype": "text/x-python",
   "name": "python",
   "nbconvert_exporter": "python",
   "pygments_lexer": "ipython3",
   "version": "3.12.7"
  }
 },
 "nbformat": 4,
 "nbformat_minor": 5
}
