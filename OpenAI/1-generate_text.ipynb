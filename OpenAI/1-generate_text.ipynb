{
 "cells": [
  {
   "cell_type": "code",
   "execution_count": 1,
   "id": "e4cfea13",
   "metadata": {},
   "outputs": [],
   "source": [
    "import openai"
   ]
  },
  {
   "cell_type": "code",
   "execution_count": 2,
   "id": "68268a54",
   "metadata": {},
   "outputs": [],
   "source": [
    "client = openai.Client()"
   ]
  },
  {
   "cell_type": "markdown",
   "id": "74f7ee42",
   "metadata": {},
   "source": [
    "### Fluxo de conversa\n",
    "- User: Usuário que inicia a conversa\n",
    "- Assistant: Bot que responda a pergunta"
   ]
  },
  {
   "cell_type": "code",
   "execution_count": 3,
   "id": "22bd9524",
   "metadata": {},
   "outputs": [],
   "source": [
    "mensagens = [{\"role\": \"user\", \"content\": \"Defina uma laranja em 5 palavras\"}]"
   ]
  },
  {
   "cell_type": "code",
   "execution_count": 4,
   "id": "726f8278",
   "metadata": {},
   "outputs": [],
   "source": [
    "resposta = client.chat.completions.create(\n",
    "    messages=mensagens,\n",
    "    model=\"gpt-3.5-turbo-0125\",\n",
    "    max_tokens=1000,\n",
    "    temperature=0\n",
    ")"
   ]
  },
  {
   "cell_type": "code",
   "execution_count": 5,
   "id": "9d370a70",
   "metadata": {},
   "outputs": [
    {
     "data": {
      "text/plain": [
       "ChatCompletion(id='chatcmpl-BfUs4mBcEXyLPPC2spXqhpxfnxLzv', choices=[Choice(finish_reason='stop', index=0, logprobs=None, message=ChatCompletionMessage(content='Fruta cítrica suculenta e saborosa.', refusal=None, role='assistant', annotations=[], audio=None, function_call=None, tool_calls=None))], created=1749229816, model='gpt-3.5-turbo-0125', object='chat.completion', service_tier='default', system_fingerprint=None, usage=CompletionUsage(completion_tokens=14, prompt_tokens=18, total_tokens=32, completion_tokens_details=CompletionTokensDetails(accepted_prediction_tokens=0, audio_tokens=0, reasoning_tokens=0, rejected_prediction_tokens=0), prompt_tokens_details=PromptTokensDetails(audio_tokens=0, cached_tokens=0)))"
      ]
     },
     "execution_count": 5,
     "metadata": {},
     "output_type": "execute_result"
    }
   ],
   "source": [
    "resposta"
   ]
  },
  {
   "cell_type": "code",
   "execution_count": 6,
   "id": "e1c4a2a3",
   "metadata": {},
   "outputs": [
    {
     "data": {
      "text/plain": [
       "'Fruta cítrica suculenta e saborosa.'"
      ]
     },
     "execution_count": 6,
     "metadata": {},
     "output_type": "execute_result"
    }
   ],
   "source": [
    "resposta.choices[0].message.content"
   ]
  },
  {
   "cell_type": "code",
   "execution_count": 7,
   "id": "11ea7e5e",
   "metadata": {},
   "outputs": [],
   "source": [
    "# Adiciona a resposta do assistente à lista de mensagens para um ciclo de conversa contínuo\n",
    "mensagens.append({\"role\" : \"assistant\", \"content\": resposta.choices[0].message.content})"
   ]
  },
  {
   "cell_type": "code",
   "execution_count": 8,
   "id": "1a9439aa",
   "metadata": {},
   "outputs": [],
   "source": [
    "mensagens.append({\"role\": \"user\", \"content\": \"E qual a sua cor?\"})"
   ]
  },
  {
   "cell_type": "code",
   "execution_count": 9,
   "id": "37a0c004",
   "metadata": {},
   "outputs": [],
   "source": [
    "resposta = client.chat.completions.create(\n",
    "    messages=mensagens,\n",
    "    model=\"gpt-3.5-turbo-0125\",\n",
    "    max_tokens=1000,\n",
    "    temperature=0\n",
    ")"
   ]
  },
  {
   "cell_type": "code",
   "execution_count": 10,
   "id": "9e1bcb94",
   "metadata": {},
   "outputs": [
    {
     "data": {
      "text/plain": [
       "'Laranja.'"
      ]
     },
     "execution_count": 10,
     "metadata": {},
     "output_type": "execute_result"
    }
   ],
   "source": [
    "resposta.choices[0].message.content"
   ]
  },
  {
   "cell_type": "code",
   "execution_count": 11,
   "id": "ececf739",
   "metadata": {},
   "outputs": [],
   "source": [
    "mensagens.append({\"role\" : \"assistant\", \"content\": resposta.choices[0].message.content})"
   ]
  },
  {
   "cell_type": "code",
   "execution_count": 12,
   "id": "2de0326b",
   "metadata": {},
   "outputs": [
    {
     "data": {
      "text/plain": [
       "[{'role': 'user', 'content': 'Defina uma laranja em 5 palavras'},\n",
       " {'role': 'assistant', 'content': 'Fruta cítrica suculenta e saborosa.'},\n",
       " {'role': 'user', 'content': 'E qual a sua cor?'},\n",
       " {'role': 'assistant', 'content': 'Laranja.'}]"
      ]
     },
     "execution_count": 12,
     "metadata": {},
     "output_type": "execute_result"
    }
   ],
   "source": [
    "mensagens"
   ]
  },
  {
   "cell_type": "code",
   "execution_count": null,
   "id": "6fb6ec98",
   "metadata": {},
   "outputs": [],
   "source": []
  },
  {
   "cell_type": "markdown",
   "id": "ddd38b0c",
   "metadata": {},
   "source": [
    "## Utilizando Funções"
   ]
  },
  {
   "cell_type": "code",
   "execution_count": 13,
   "id": "8fe270b0",
   "metadata": {},
   "outputs": [],
   "source": [
    "def gerar_text(mensagens, model=\"gpt-3.5-turbo-0125\", max_tokens=1000, temperature=0):\n",
    "    resposta = client.chat.completions.create(\n",
    "        messages=mensagens,\n",
    "        model=model,\n",
    "        max_tokens=max_tokens,\n",
    "        temperature=temperature\n",
    "    )\n",
    "    mensagens.append({\"role\" : \"assistant\", \"content\": resposta.choices[0].message.content})\n",
    "    \n",
    "    return mensagens"
   ]
  },
  {
   "cell_type": "code",
   "execution_count": 17,
   "id": "e85b8921",
   "metadata": {},
   "outputs": [],
   "source": [
    "msg1 = [{\"role\": \"user\", \"content\": \"Defina o que é API em 5 palavras\"}]"
   ]
  },
  {
   "cell_type": "code",
   "execution_count": 18,
   "id": "b2c9936d",
   "metadata": {},
   "outputs": [],
   "source": [
    "mensagens = gerar_text(msg1)"
   ]
  },
  {
   "cell_type": "code",
   "execution_count": 19,
   "id": "b7dab566",
   "metadata": {},
   "outputs": [
    {
     "data": {
      "text/plain": [
       "[{'role': 'user', 'content': 'Defina o que é API em 5 palavras'},\n",
       " {'role': 'assistant', 'content': 'Interface de programação de aplicativos.'}]"
      ]
     },
     "execution_count": 19,
     "metadata": {},
     "output_type": "execute_result"
    }
   ],
   "source": [
    "mensagens"
   ]
  },
  {
   "cell_type": "code",
   "execution_count": null,
   "id": "a0fdd644",
   "metadata": {},
   "outputs": [],
   "source": []
  },
  {
   "cell_type": "markdown",
   "id": "788d89ea",
   "metadata": {},
   "source": [
    "## Utilzando Stream"
   ]
  },
  {
   "cell_type": "code",
   "execution_count": 20,
   "id": "f6d498da",
   "metadata": {},
   "outputs": [],
   "source": [
    "mensagens = [{\"role\": \"user\", \"content\": \"Conte uma história simples e objetiva sobre LLM\"}]\n",
    "resposta = client.chat.completions.create(\n",
    "        messages=mensagens,\n",
    "        model=\"gpt-3.5-turbo-0125\",\n",
    "        max_tokens=1000,\n",
    "        temperature=0,\n",
    "        stream=True\n",
    "    )"
   ]
  },
  {
   "cell_type": "code",
   "execution_count": 21,
   "id": "43d240e7",
   "metadata": {},
   "outputs": [
    {
     "data": {
      "text/plain": [
       "<openai.Stream at 0x1ea57140230>"
      ]
     },
     "execution_count": 21,
     "metadata": {},
     "output_type": "execute_result"
    }
   ],
   "source": [
    "resposta"
   ]
  },
  {
   "cell_type": "code",
   "execution_count": 22,
   "id": "197e1d7b",
   "metadata": {},
   "outputs": [
    {
     "name": "stdout",
     "output_type": "stream",
     "text": [
      "LLM era um jovem estudante de direito muito dedicado e determinado. Desde pequeno, ele sonhava em se tornar um advogado renomado e ajudar as pessoas a obter justiça.\n",
      "\n",
      "Durante seus estudos, LLM se destacava pela sua inteligência e capacidade de argumentação. Ele sempre se esforçava ao máximo para aprender e se aprimorar, buscando sempre novos desafios e oportunidades de crescimento.\n",
      "\n",
      "Após se formar, LLM conseguiu um emprego em um escritório de advocacia de prestígio, onde rapidamente se destacou pelo seu trabalho árduo e dedicação aos clientes. Sua reputação como advogado competente e ético logo se espalhou, e ele passou a ser procurado por pessoas de todo o país em busca de sua ajuda.\n",
      "\n",
      "Com o passar dos anos, LLM se tornou um dos advogados mais respeitados do país, conhecido por sua integridade, competência e comprometimento com a justiça. Ele nunca deixou de lutar pelos direitos de seus clientes, sempre buscando a verdade e a equidade em cada caso que assumia.\n",
      "\n",
      "LLM era um exemplo de profissionalismo e ética, inspirando não apenas seus colegas de profissão, mas também todos aqueles que buscavam justiça e igualdade. Sua história era um testemunho do poder da determinação e da dedicação em alcançar os objetivos e fazer a diferença no mundo."
     ]
    }
   ],
   "source": [
    "for resposta_stream in resposta:\n",
    "    texto = resposta_stream.choices[0].delta.content\n",
    "    if texto:\n",
    "        print(texto, end='')"
   ]
  },
  {
   "cell_type": "code",
   "execution_count": null,
   "id": "55c197d3",
   "metadata": {},
   "outputs": [],
   "source": []
  },
  {
   "cell_type": "code",
   "execution_count": null,
   "id": "e5f77168",
   "metadata": {},
   "outputs": [],
   "source": []
  },
  {
   "cell_type": "code",
   "execution_count": null,
   "id": "5bb5095f",
   "metadata": {},
   "outputs": [],
   "source": []
  },
  {
   "cell_type": "code",
   "execution_count": null,
   "id": "eff8d76e",
   "metadata": {},
   "outputs": [],
   "source": []
  },
  {
   "cell_type": "code",
   "execution_count": null,
   "id": "f89d14d2",
   "metadata": {},
   "outputs": [],
   "source": []
  },
  {
   "cell_type": "code",
   "execution_count": null,
   "id": "8b11a77e",
   "metadata": {},
   "outputs": [],
   "source": []
  },
  {
   "cell_type": "code",
   "execution_count": null,
   "id": "b8eb4deb",
   "metadata": {},
   "outputs": [],
   "source": []
  },
  {
   "cell_type": "code",
   "execution_count": null,
   "id": "152fbedf",
   "metadata": {},
   "outputs": [],
   "source": []
  },
  {
   "cell_type": "code",
   "execution_count": null,
   "id": "52e4f692",
   "metadata": {},
   "outputs": [],
   "source": []
  },
  {
   "cell_type": "code",
   "execution_count": null,
   "id": "d9679c6c",
   "metadata": {},
   "outputs": [],
   "source": []
  }
 ],
 "metadata": {
  "kernelspec": {
   "display_name": "env",
   "language": "python",
   "name": "python3"
  },
  "language_info": {
   "codemirror_mode": {
    "name": "ipython",
    "version": 3
   },
   "file_extension": ".py",
   "mimetype": "text/x-python",
   "name": "python",
   "nbconvert_exporter": "python",
   "pygments_lexer": "ipython3",
   "version": "3.12.7"
  }
 },
 "nbformat": 4,
 "nbformat_minor": 5
}
