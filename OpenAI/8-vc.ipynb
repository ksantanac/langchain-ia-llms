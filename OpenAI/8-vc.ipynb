{
 "cells": [
  {
   "cell_type": "code",
   "execution_count": 1,
   "id": "d40ee5a3",
   "metadata": {},
   "outputs": [],
   "source": [
    "import openai\n",
    "import requests\n",
    "\n",
    "from PIL import Image"
   ]
  },
  {
   "cell_type": "code",
   "execution_count": 2,
   "id": "82baa15f",
   "metadata": {},
   "outputs": [],
   "source": [
    "client = openai.Client()"
   ]
  },
  {
   "cell_type": "markdown",
   "id": "3da49540",
   "metadata": {},
   "source": [
    "## Gerar Imagens"
   ]
  },
  {
   "cell_type": "code",
   "execution_count": 3,
   "id": "39df7b71",
   "metadata": {},
   "outputs": [],
   "source": [
    "nome=\"robo_praia\"\n",
    "model=\"dall-e-3\"\n",
    "prompt=\"Crie uuma imagem com dois robôs em uma praia lendo livro de finanças\"\n",
    "size=\"1024x1024\"\n",
    "quality=\"hd\"\n",
    "style=\"vivid\""
   ]
  },
  {
   "cell_type": "code",
   "execution_count": 4,
   "id": "a93ff09e",
   "metadata": {},
   "outputs": [],
   "source": [
    "resposta = client.images.generate(\n",
    "    model=model,\n",
    "    prompt=prompt,\n",
    "    size=size,\n",
    "    quality=quality,\n",
    "    style=style,\n",
    "    n=1\n",
    ")"
   ]
  },
  {
   "cell_type": "code",
   "execution_count": 5,
   "id": "0817571f",
   "metadata": {},
   "outputs": [
    {
     "data": {
      "text/plain": [
       "\"Visualize two robots sitting on a beach, engrossed in reading a finance book. The robots should appear advanced and futuristic, showcasing intricate mechanisms. The sounds of the waves can be faintly heard in the background, with seashells scattered across the sandy surface. The sky domes above them with a warm hue of sunset, painting the world in shades of oranges and purples. A few early stars are peeking out. The book they are reading is thick and hard-covered, its title 'Finance and Economics' gleaming in the settling sunlight.\""
      ]
     },
     "execution_count": 5,
     "metadata": {},
     "output_type": "execute_result"
    }
   ],
   "source": [
    "resposta.data[0].revised_prompt"
   ]
  },
  {
   "cell_type": "code",
   "execution_count": 6,
   "id": "11feee3d",
   "metadata": {},
   "outputs": [],
   "source": [
    "nome_arquivo = f\"files/{nome}_{model}_{quality}_{style}.jpg\"\n",
    "image_url = resposta.data[0].url\n",
    "image_data = requests.get(image_url).content\n",
    "\n",
    "with open(nome_arquivo, \"wb\") as f:\n",
    "    f.write(image_data)"
   ]
  },
  {
   "cell_type": "code",
   "execution_count": null,
   "id": "5424cc86",
   "metadata": {},
   "outputs": [],
   "source": []
  },
  {
   "cell_type": "markdown",
   "id": "1e570554",
   "metadata": {},
   "source": [
    "## Image to Text"
   ]
  },
  {
   "cell_type": "code",
   "execution_count": 7,
   "id": "fb7b3e29",
   "metadata": {},
   "outputs": [],
   "source": [
    "resposta = client.chat.completions.create(\n",
    "    model=\"gpt-4o-mini\",\n",
    "    messages=[{\n",
    "        \"role\": \"user\",\n",
    "        \"content\": [\n",
    "            {\"type\": \"text\", \"text\": \"Descreva a imagem fornecida\"},\n",
    "            {\"type\": \"image_url\", \"image_url\": {\n",
    "                \"url\": \"https://harus.ind.br/wp-content/uploads/2023/02/5-praias-brasileiras.jpg\"\n",
    "            }}\n",
    "        ]\n",
    "    }]\n",
    ")"
   ]
  },
  {
   "cell_type": "code",
   "execution_count": 8,
   "id": "a22628fc",
   "metadata": {},
   "outputs": [
    {
     "data": {
      "text/plain": [
       "'A imagem retrata uma linda praia ao entardecer, com um céu pintado em tons de laranja, rosa e roxo, criando uma atmosfera tranquila e serena. A areia é clara e suave, e há palmeiras inclinadas em direção ao mar. À distância, é possível ver algumas formações de vegetação e um relevo suave. A água reflete as cores do céu, intensificando as nuances do pôr do sol. O ambiente parece convidativo e tropical, perfeito para relaxar e apreciar a natureza.'"
      ]
     },
     "execution_count": 8,
     "metadata": {},
     "output_type": "execute_result"
    }
   ],
   "source": [
    "resposta.choices[0].message.content"
   ]
  },
  {
   "cell_type": "code",
   "execution_count": null,
   "id": "afff65a8",
   "metadata": {},
   "outputs": [],
   "source": []
  },
  {
   "cell_type": "markdown",
   "id": "e59aba03",
   "metadata": {},
   "source": [
    "## Extrair placa de carro"
   ]
  },
  {
   "cell_type": "code",
   "execution_count": 9,
   "id": "8acc7aac",
   "metadata": {},
   "outputs": [],
   "source": [
    "texto = \"Qual é a placa? Devolva apenas a placa\""
   ]
  },
  {
   "cell_type": "code",
   "execution_count": 10,
   "id": "49dfd64f",
   "metadata": {},
   "outputs": [],
   "source": [
    "resposta = client.chat.completions.create(\n",
    "    model=\"gpt-4o-mini\",\n",
    "    messages=[{\n",
    "        \"role\": \"user\",\n",
    "        \"content\": [\n",
    "            {\"type\": \"text\", \"text\": texto},\n",
    "            {\"type\": \"image_url\", \"image_url\": {\n",
    "                \"url\": \"https://quatrorodas.abril.com.br/wp-content/uploads/2018/09/imagem-e1536873662306.jpg?quality=70&strip=info&w=720&crop=1\"\n",
    "            }}\n",
    "        ]\n",
    "    }],\n",
    "    max_tokens=1000\n",
    ")"
   ]
  },
  {
   "cell_type": "code",
   "execution_count": 12,
   "id": "4a260759",
   "metadata": {},
   "outputs": [
    {
     "data": {
      "text/plain": [
       "'R102A19'"
      ]
     },
     "execution_count": 12,
     "metadata": {},
     "output_type": "execute_result"
    }
   ],
   "source": [
    "resposta.choices[0].message.content"
   ]
  },
  {
   "cell_type": "code",
   "execution_count": null,
   "id": "da311171",
   "metadata": {},
   "outputs": [],
   "source": []
  },
  {
   "cell_type": "markdown",
   "id": "fedea9d8",
   "metadata": {},
   "source": [
    "## OCR"
   ]
  },
  {
   "cell_type": "code",
   "execution_count": 13,
   "id": "9421aeb5",
   "metadata": {},
   "outputs": [],
   "source": [
    "texto = \"O que está escrito na imagem?\""
   ]
  },
  {
   "cell_type": "code",
   "execution_count": 14,
   "id": "8d2c8ee7",
   "metadata": {},
   "outputs": [],
   "source": [
    "resposta = client.chat.completions.create(\n",
    "    model=\"gpt-4o-mini\",\n",
    "    messages=[{\n",
    "        \"role\": \"user\",\n",
    "        \"content\": [\n",
    "            {\"type\": \"text\", \"text\": texto},\n",
    "            {\"type\": \"image_url\", \"image_url\": {\n",
    "                \"url\": \"https://www.rbsdirect.com.br/imagesrc/17752154.jpg?w=700\"\n",
    "            }}\n",
    "        ]\n",
    "    }],\n",
    "    max_tokens=1000\n",
    ")"
   ]
  },
  {
   "cell_type": "code",
   "execution_count": 15,
   "id": "2175ec9f",
   "metadata": {},
   "outputs": [
    {
     "data": {
      "text/plain": [
       "'O texto escrito na imagem é:\\n\\n\"ISSO É UM PEDIDO:  \\nque você seja muito feliz  \\nno seu grande dia.  \\nEste vestido tem mãos de  \\numa brasileira, gera  \\nemprego e movimenta  \\na economia local.  \\nFoi um prazer fazê-lo  \\npara você.\\n\\nElianna  \\nBautista  \\nBrás - SP\"'"
      ]
     },
     "execution_count": 15,
     "metadata": {},
     "output_type": "execute_result"
    }
   ],
   "source": [
    "resposta.choices[0].message.content"
   ]
  },
  {
   "cell_type": "code",
   "execution_count": 16,
   "id": "e51fa4cb",
   "metadata": {},
   "outputs": [],
   "source": [
    "response = client.chat.completions.create(\n",
    "    model=\"gpt-4o-mini\",\n",
    "    messages=[\n",
    "        {\n",
    "            \"role\": \"user\",\n",
    "            \"content\": [\n",
    "                {\n",
    "                    \"type\": \"text\",\n",
    "                    \"text\": \"What are in these images? Is there any difference between them?\",\n",
    "                },\n",
    "                {\n",
    "                    \"type\": \"image_url\",\n",
    "                    \"image_url\": {\n",
    "                        \"url\": \"https://upload.wikimedia.org/wikipedia/commons/thumb/d/dd/Gfp-wisconsin-madison-the-nature-boardwalk.jpg/2560px-Gfp-wisconsin-madison-the-nature-boardwalk.jpg\",\n",
    "                    },\n",
    "                },\n",
    "                {\n",
    "                    \"type\": \"image_url\",\n",
    "                    \"image_url\": {\n",
    "                        \"url\": \"https://upload.wikimedia.org/wikipedia/commons/thumb/d/dd/Gfp-wisconsin-madison-the-nature-boardwalk.jpg/2560px-Gfp-wisconsin-madison-the-nature-boardwalk.jpg\",\n",
    "                    },\n",
    "                },\n",
    "            ],\n",
    "        }\n",
    "    ],\n",
    "    max_tokens=300,\n",
    ")"
   ]
  },
  {
   "cell_type": "code",
   "execution_count": 17,
   "id": "c860c858",
   "metadata": {},
   "outputs": [
    {
     "data": {
      "text/plain": [
       "'The images appear to be similar serene landscapes featuring a wooden walkway through a grassy area under a blue sky with clouds. While the overall scene looks alike, the images may differ in lighting, color saturation, or slight variations in composition. Since the details of each image cannot be analyzed beyond their visual appearance, specific differences cannot be identified.'"
      ]
     },
     "execution_count": 17,
     "metadata": {},
     "output_type": "execute_result"
    }
   ],
   "source": [
    "response.choices[0].message.content"
   ]
  },
  {
   "cell_type": "code",
   "execution_count": null,
   "id": "b5934a91",
   "metadata": {},
   "outputs": [],
   "source": []
  },
  {
   "cell_type": "code",
   "execution_count": null,
   "id": "b5b743f2",
   "metadata": {},
   "outputs": [],
   "source": []
  },
  {
   "cell_type": "code",
   "execution_count": null,
   "id": "df2962e7",
   "metadata": {},
   "outputs": [],
   "source": []
  },
  {
   "cell_type": "code",
   "execution_count": null,
   "id": "50ba2d6c",
   "metadata": {},
   "outputs": [],
   "source": []
  },
  {
   "cell_type": "code",
   "execution_count": null,
   "id": "3b8c76d8",
   "metadata": {},
   "outputs": [],
   "source": []
  },
  {
   "cell_type": "code",
   "execution_count": null,
   "id": "5032220b",
   "metadata": {},
   "outputs": [],
   "source": []
  },
  {
   "cell_type": "code",
   "execution_count": null,
   "id": "404e0a2e",
   "metadata": {},
   "outputs": [],
   "source": []
  },
  {
   "cell_type": "code",
   "execution_count": null,
   "id": "be9ed9c6",
   "metadata": {},
   "outputs": [],
   "source": []
  },
  {
   "cell_type": "code",
   "execution_count": null,
   "id": "0b239291",
   "metadata": {},
   "outputs": [],
   "source": []
  },
  {
   "cell_type": "code",
   "execution_count": null,
   "id": "e30b9a49",
   "metadata": {},
   "outputs": [],
   "source": []
  },
  {
   "cell_type": "code",
   "execution_count": null,
   "id": "fe4cf61d",
   "metadata": {},
   "outputs": [],
   "source": []
  }
 ],
 "metadata": {
  "kernelspec": {
   "display_name": "base",
   "language": "python",
   "name": "python3"
  },
  "language_info": {
   "codemirror_mode": {
    "name": "ipython",
    "version": 3
   },
   "file_extension": ".py",
   "mimetype": "text/x-python",
   "name": "python",
   "nbconvert_exporter": "python",
   "pygments_lexer": "ipython3",
   "version": "3.12.7"
  }
 },
 "nbformat": 4,
 "nbformat_minor": 5
}
