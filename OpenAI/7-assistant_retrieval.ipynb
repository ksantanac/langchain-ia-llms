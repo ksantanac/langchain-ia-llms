{
 "cells": [
  {
   "cell_type": "code",
   "execution_count": 1,
   "metadata": {},
   "outputs": [],
   "source": [
    "import openai"
   ]
  },
  {
   "cell_type": "code",
   "execution_count": 2,
   "metadata": {},
   "outputs": [],
   "source": [
    "client = openai.Client()"
   ]
  },
  {
   "cell_type": "code",
   "execution_count": 3,
   "metadata": {},
   "outputs": [],
   "source": [
    "vector_store = client.beta.vector_stores.create(\n",
    "    name=\"Tutor de Apostilas\"\n",
    ")"
   ]
  },
  {
   "cell_type": "code",
   "execution_count": 4,
   "metadata": {},
   "outputs": [],
   "source": [
    "file = [\"files/LLM.pdf\"]\n",
    "file_stream = [open(f, \"rb\") for f in file]\n",
    "file_batch = client.beta.vector_stores.file_batches.upload_and_poll(\n",
    "    vector_store_id=vector_store.id,\n",
    "    files=file_stream\n",
    ")"
   ]
  },
  {
   "cell_type": "code",
   "execution_count": 5,
   "metadata": {},
   "outputs": [
    {
     "data": {
      "text/plain": [
       "'completed'"
      ]
     },
     "execution_count": 5,
     "metadata": {},
     "output_type": "execute_result"
    }
   ],
   "source": [
    "file_batch.status"
   ]
  },
  {
   "cell_type": "code",
   "execution_count": 6,
   "metadata": {},
   "outputs": [
    {
     "data": {
      "text/plain": [
       "FileCounts(cancelled=0, completed=1, failed=0, in_progress=0, total=1)"
      ]
     },
     "execution_count": 6,
     "metadata": {},
     "output_type": "execute_result"
    }
   ],
   "source": [
    "file_batch.file_counts"
   ]
  },
  {
   "cell_type": "code",
   "execution_count": 7,
   "metadata": {},
   "outputs": [],
   "source": [
    "assistant = client.beta.assistants.create(\n",
    "    name=\"Tutor Apostila\",\n",
    "    instructions=\"Você é um tutor especializado em tecnologias emergentes. \\\n",
    "        Você sabe responder perguntas sobre LLMs como OpenAI, HuggingFace, etc. \\\n",
    "            Caso você não encontre as resostas, seja sincero e fale que não sabe responder\",\n",
    "    tools=[{\"type\": \"file_search\"}],\n",
    "    tool_resources={\"file_search\": {\"vector_store_ids\":[vector_store.id]}},\n",
    "    model=\"gpt-4-turbo-preview\"\n",
    ")"
   ]
  },
  {
   "cell_type": "code",
   "execution_count": 14,
   "metadata": {},
   "outputs": [],
   "source": [
    "pergunta = \"Conforme o documento, o que é o OpenAI?\""
   ]
  },
  {
   "cell_type": "code",
   "execution_count": 15,
   "metadata": {},
   "outputs": [],
   "source": [
    "# Criação da Thread\n",
    "thread = client.beta.threads.create()\n",
    "message = client.beta.threads.messages.create(\n",
    "    thread_id=thread.id,\n",
    "    role=\"user\",\n",
    "    content=pergunta\n",
    ")"
   ]
  },
  {
   "cell_type": "code",
   "execution_count": 16,
   "metadata": {},
   "outputs": [],
   "source": [
    "# Executa a thread\n",
    "run = client.beta.threads.runs.create(\n",
    "    thread_id=thread.id,\n",
    "    assistant_id=assistant.id,\n",
    "    instructions=\"Nome de usuário premium\"\n",
    ")"
   ]
  },
  {
   "cell_type": "code",
   "execution_count": 17,
   "metadata": {},
   "outputs": [],
   "source": [
    "# Aguarda a thread rodar\n",
    "import time\n",
    "while run.status in [\"queued\", \"in_progress\", \"cancelling\"]:\n",
    "    time.sleep(1)\n",
    "    run = client.beta.threads.runs.retrieve(\n",
    "        thread_id=thread.id,\n",
    "        run_id=run.id\n",
    "    )"
   ]
  },
  {
   "cell_type": "code",
   "execution_count": 18,
   "metadata": {},
   "outputs": [
    {
     "name": "stdout",
     "output_type": "stream",
     "text": [
      "SyncCursorPage[Message](data=[Message(id='msg_AclquuDVuyvFclArD4RlUcfK', assistant_id='asst_WXJuetM32uqZclf5n95Far6C', attachments=[], completed_at=None, content=[TextContentBlock(text=Text(annotations=[FileCitationAnnotation(end_index=916, file_citation=FileCitation(file_id='file-HZGXb8BPup3LEiY4fJbxXf'), start_index=903, text='【4:4†LLM.pdf】', type='file_citation')], value='A OpenAI, conforme descrito no documento, é uma organização que foi fundamental no desenvolvimento e lançamento de modelos de linguagem avançados, como o GPT-3 e o ChatGPT. Em 2020, a OpenAI lançou o GPT-3, o maior modelo naquela época, com 175 bilhões de parâmetros, estabelecendo novos padrões de desempenho para tarefas relacionadas à linguagem. Posteriormente, em 2022, o ChatGPT foi introduzido, transformando o GPT-3 e modelos semelhantes num serviço largamente acessível aos usuários por meio de uma interface web, o que impulsionou significativamente a conscientização pública sobre os modelos de linguagem de grande escala (LLMs) e IA generativa. O documento também menciona o lançamento de modelos de linguagem de código aberto que têm mostrado resultados impressionantes, bem como o lançamento do GPT-4 em 2023, que estabeleceu novos benchmarks em termos de tamanho de parâmetros e desempenho【4:4†LLM.pdf】.'), type='text')], created_at=1736971921, incomplete_at=None, incomplete_details=None, metadata={}, object='thread.message', role='assistant', run_id='run_2HGhiw99XpIx9QuQzaaJN4bq', status=None, thread_id='thread_rCuuUKdYksYHNytetNrRSE6B'), Message(id='msg_z74QxNTxVBwVH1b9EYTD3OPj', assistant_id=None, attachments=[], completed_at=None, content=[TextContentBlock(text=Text(annotations=[], value='Conforme o documento, o que é o OpenAI?'), type='text')], created_at=1736971912, incomplete_at=None, incomplete_details=None, metadata={}, object='thread.message', role='user', run_id=None, status=None, thread_id='thread_rCuuUKdYksYHNytetNrRSE6B')], object='list', first_id='msg_AclquuDVuyvFclArD4RlUcfK', last_id='msg_z74QxNTxVBwVH1b9EYTD3OPj', has_more=False)\n"
     ]
    }
   ],
   "source": [
    "# Verifica a resposta\n",
    "if run.status == \"completed\":\n",
    "    mensagens = client.beta.threads.messages.list(\n",
    "        thread_id=thread.id\n",
    "    )\n",
    "    print(mensagens)\n",
    "else:\n",
    "    print(f\"Erro {run.status}\")"
   ]
  },
  {
   "cell_type": "code",
   "execution_count": 19,
   "metadata": {},
   "outputs": [
    {
     "name": "stdout",
     "output_type": "stream",
     "text": [
      "A OpenAI, conforme descrito no documento, é uma organização que foi fundamental no desenvolvimento e lançamento de modelos de linguagem avançados, como o GPT-3 e o ChatGPT. Em 2020, a OpenAI lançou o GPT-3, o maior modelo naquela época, com 175 bilhões de parâmetros, estabelecendo novos padrões de desempenho para tarefas relacionadas à linguagem. Posteriormente, em 2022, o ChatGPT foi introduzido, transformando o GPT-3 e modelos semelhantes num serviço largamente acessível aos usuários por meio de uma interface web, o que impulsionou significativamente a conscientização pública sobre os modelos de linguagem de grande escala (LLMs) e IA generativa. O documento também menciona o lançamento de modelos de linguagem de código aberto que têm mostrado resultados impressionantes, bem como o lançamento do GPT-4 em 2023, que estabeleceu novos benchmarks em termos de tamanho de parâmetros e desempenho【4:4†LLM.pdf】.\n"
     ]
    }
   ],
   "source": [
    "print(mensagens.data[0].content[0].text.value)"
   ]
  }
 ],
 "metadata": {
  "kernelspec": {
   "display_name": "env",
   "language": "python",
   "name": "python3"
  },
  "language_info": {
   "codemirror_mode": {
    "name": "ipython",
    "version": 3
   },
   "file_extension": ".py",
   "mimetype": "text/x-python",
   "name": "python",
   "nbconvert_exporter": "python",
   "pygments_lexer": "ipython3",
   "version": "3.12.7"
  }
 },
 "nbformat": 4,
 "nbformat_minor": 2
}
