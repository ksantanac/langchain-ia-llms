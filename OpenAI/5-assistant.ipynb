{
 "cells": [
  {
   "cell_type": "code",
   "execution_count": 1,
   "id": "3acd3d52",
   "metadata": {},
   "outputs": [],
   "source": [
    "import openai"
   ]
  },
  {
   "cell_type": "code",
   "execution_count": 2,
   "id": "decb2d9f",
   "metadata": {},
   "outputs": [],
   "source": [
    "client = openai.Client()"
   ]
  },
  {
   "cell_type": "code",
   "execution_count": 3,
   "id": "a4d81096",
   "metadata": {},
   "outputs": [],
   "source": [
    "assistant = client.beta.assistants.create(\n",
    "    name=\"Tutor de Tecnologia\",\n",
    "    instructions=\"Você é um tutor sobre assuntos relacionados a tecnologia\",\n",
    "    tools=[{\"type\": \"code_interpreter\"}],\n",
    "    model=\"gpt-3.5-turbo-0125\",\n",
    ")"
   ]
  },
  {
   "cell_type": "code",
   "execution_count": 5,
   "id": "e26e473c",
   "metadata": {},
   "outputs": [],
   "source": [
    "pergunta = \"\"\"\n",
    "    Em um sistema de cache com mapeamento direto, dado uma memória principal de uma cache de 256 KB e blocos de 64 bytes:\n",
    "        - Quantas linhas existem na cache?\n",
    "        - Onde o bloco de endereço 0x1A23C será mapeado na cache?\n",
    "\"\"\""
   ]
  },
  {
   "cell_type": "code",
   "execution_count": 6,
   "id": "daf937bf",
   "metadata": {},
   "outputs": [
    {
     "name": "stderr",
     "output_type": "stream",
     "text": [
      "C:\\Users\\kaues\\AppData\\Local\\Temp\\ipykernel_15672\\832815408.py:2: DeprecationWarning: The Assistants API is deprecated in favor of the Responses API\n",
      "  thread = client.beta.threads.create()\n",
      "C:\\Users\\kaues\\AppData\\Local\\Temp\\ipykernel_15672\\832815408.py:3: DeprecationWarning: The Assistants API is deprecated in favor of the Responses API\n",
      "  message = client.beta.threads.messages.create(\n"
     ]
    }
   ],
   "source": [
    "# Criação da Thread\n",
    "thread = client.beta.threads.create()\n",
    "message = client.beta.threads.messages.create(\n",
    "    thread_id=thread.id,\n",
    "    role=\"user\",\n",
    "    content=pergunta\n",
    ")"
   ]
  },
  {
   "cell_type": "code",
   "execution_count": 7,
   "id": "93b82bc2",
   "metadata": {},
   "outputs": [
    {
     "name": "stderr",
     "output_type": "stream",
     "text": [
      "C:\\Users\\kaues\\AppData\\Local\\Temp\\ipykernel_15672\\209825715.py:2: DeprecationWarning: The Assistants API is deprecated in favor of the Responses API\n",
      "  run = client.beta.threads.runs.create(\n"
     ]
    }
   ],
   "source": [
    "# Executa a thread \n",
    "run = client.beta.threads.runs.create(\n",
    "    thread_id=thread.id,\n",
    "    assistant_id=assistant.id,\n",
    "    instructions=\"Nome de usuário premium\"\n",
    ")"
   ]
  },
  {
   "cell_type": "code",
   "execution_count": 8,
   "id": "889e130c",
   "metadata": {},
   "outputs": [
    {
     "data": {
      "text/plain": [
       "'queued'"
      ]
     },
     "execution_count": 8,
     "metadata": {},
     "output_type": "execute_result"
    }
   ],
   "source": [
    "run.status"
   ]
  },
  {
   "cell_type": "code",
   "execution_count": 9,
   "id": "bb65ae00",
   "metadata": {},
   "outputs": [
    {
     "name": "stderr",
     "output_type": "stream",
     "text": [
      "C:\\Users\\kaues\\AppData\\Local\\Temp\\ipykernel_15672\\435338251.py:6: DeprecationWarning: The Assistants API is deprecated in favor of the Responses API\n",
      "  run = client.beta.threads.runs.retrieve(\n"
     ]
    }
   ],
   "source": [
    "# Aguarda a thread rodar\n",
    "import time\n",
    "\n",
    "while run.status in [\"queued\", \"in_progress\", \"cancellig\"]:\n",
    "    time.sleep(1)\n",
    "    run = client.beta.threads.runs.retrieve(\n",
    "        thread_id=thread.id,\n",
    "        run_id=run.id\n",
    "    )"
   ]
  },
  {
   "cell_type": "code",
   "execution_count": 10,
   "id": "949b1d88",
   "metadata": {},
   "outputs": [
    {
     "name": "stderr",
     "output_type": "stream",
     "text": [
      "C:\\Users\\kaues\\AppData\\Local\\Temp\\ipykernel_15672\\184256488.py:3: DeprecationWarning: The Assistants API is deprecated in favor of the Responses API\n",
      "  mensagens = client.beta.threads.messages.list(\n"
     ]
    },
    {
     "name": "stdout",
     "output_type": "stream",
     "text": [
      "SyncCursorPage[Message](data=[Message(id='msg_N8Tz41pzgJQCR2Uyk5YQjq9l', assistant_id='asst_Cswo3wIti8u3BWoXb0NrTPBo', attachments=[], completed_at=None, content=[TextContentBlock(text=Text(annotations=[], value='O bloco de endereço 0x1A23C será mapeado na linha (índice) 1672 da cache, com um deslocamento (offset) de 60 bytes. A tag para este bloco será 0.\\n\\nSe precisar de mais alguma coisa, não hesite em me chamar.'), type='text')], created_at=1749764284, incomplete_at=None, incomplete_details=None, metadata={}, object='thread.message', role='assistant', run_id='run_xcXlNEHWwQ5Fot04KD5iMWj8', status=None, thread_id='thread_57XxpTgalmcIOAJwYoxdRekX'), Message(id='msg_iy0iIUlmLioWEf7EcX45O85G', assistant_id='asst_Cswo3wIti8u3BWoXb0NrTPBo', attachments=[], completed_at=None, content=[TextContentBlock(text=Text(annotations=[], value='Parece que houve um erro de tipo na operação bitwise \"&\". Vamos corrigir isso convertendo o número de linhas para um inteiro antes de realizar a operação. Vamos corrigir e recalcular.'), type='text')], created_at=1749764281, incomplete_at=None, incomplete_details=None, metadata={}, object='thread.message', role='assistant', run_id='run_xcXlNEHWwQ5Fot04KD5iMWj8', status=None, thread_id='thread_57XxpTgalmcIOAJwYoxdRekX'), Message(id='msg_t95AHqUNTCwRwpF8atZZKIDn', assistant_id='asst_Cswo3wIti8u3BWoXb0NrTPBo', attachments=[], completed_at=None, content=[TextContentBlock(text=Text(annotations=[], value='A cache possui 4096 linhas.\\n\\nAgora, vamos determinar onde o bloco de endereço 0x1A23C será mapeado na cache. Para isso, precisamos analisar a estrutura do endereço de memória:\\n- O offset é determinado pelos bits menos significativos, devido ao tamanho do bloco.\\n- O número de linhas na cache (4096) determina as possíveis posições para mapeamento.\\n- Os bits restantes após o offset são usados para a tag.\\n\\nVamos realizar os cálculos para determinar onde o bloco de endereço 0x1A23C será mapeado na cache.'), type='text')], created_at=1749764277, incomplete_at=None, incomplete_details=None, metadata={}, object='thread.message', role='assistant', run_id='run_xcXlNEHWwQ5Fot04KD5iMWj8', status=None, thread_id='thread_57XxpTgalmcIOAJwYoxdRekX'), Message(id='msg_PB2XxFo3YqrWzRnNg4D8kAKa', assistant_id='asst_Cswo3wIti8u3BWoXb0NrTPBo', attachments=[], completed_at=None, content=[TextContentBlock(text=Text(annotations=[], value='Para determinar o número de linhas na cache e onde o bloco de endereço 0x1A23C será mapeado na cache, precisamos fazer alguns cálculos com base nas informações fornecidas.\\n\\nDado que temos uma cache com mapeamento direto, o endereço da memória principal é dividido em três partes: tag, conjunto e offset. O offset é determinado pelo tamanho do bloco (64 bytes), o conjunto é determinado pela quantidade de linhas na cache e a tag é o restante.\\n\\nVamos começar calculando o número de linhas na cache.'), type='text')], created_at=1749764273, incomplete_at=None, incomplete_details=None, metadata={}, object='thread.message', role='assistant', run_id='run_xcXlNEHWwQ5Fot04KD5iMWj8', status=None, thread_id='thread_57XxpTgalmcIOAJwYoxdRekX'), Message(id='msg_GC3uqMfzkZYiLCpKZDTPH7nI', assistant_id=None, attachments=[], completed_at=None, content=[TextContentBlock(text=Text(annotations=[], value='\\n    Em um sistema de cache com mapeamento direto, dado uma memória principal de uma cache de 256 KB e blocos de 64 bytes:\\n        - Quantas linhas existem na cache?\\n        - Onde o bloco de endereço 0x1A23C será mapeado na cache?\\n'), type='text')], created_at=1749764195, incomplete_at=None, incomplete_details=None, metadata={}, object='thread.message', role='user', run_id=None, status=None, thread_id='thread_57XxpTgalmcIOAJwYoxdRekX')], has_more=False, object='list', first_id='msg_N8Tz41pzgJQCR2Uyk5YQjq9l', last_id='msg_GC3uqMfzkZYiLCpKZDTPH7nI')\n"
     ]
    }
   ],
   "source": [
    "# Verifica a resposta\n",
    "if run.status == \"completed\":\n",
    "    mensagens = client.beta.threads.messages.list(\n",
    "        thread_id=thread.id\n",
    "    )\n",
    "    print(mensagens)\n",
    "else:\n",
    "    print(f\"Erro {run.status}\")"
   ]
  },
  {
   "cell_type": "code",
   "execution_count": 11,
   "id": "bbd33b84",
   "metadata": {},
   "outputs": [
    {
     "name": "stdout",
     "output_type": "stream",
     "text": [
      "O bloco de endereço 0x1A23C será mapeado na linha (índice) 1672 da cache, com um deslocamento (offset) de 60 bytes. A tag para este bloco será 0.\n",
      "\n",
      "Se precisar de mais alguma coisa, não hesite em me chamar.\n"
     ]
    }
   ],
   "source": [
    "print(mensagens.data[0].content[0].text.value)"
   ]
  },
  {
   "cell_type": "code",
   "execution_count": 12,
   "id": "ad3c78aa",
   "metadata": {},
   "outputs": [
    {
     "name": "stderr",
     "output_type": "stream",
     "text": [
      "C:\\Users\\kaues\\AppData\\Local\\Temp\\ipykernel_15672\\1597243276.py:2: DeprecationWarning: The Assistants API is deprecated in favor of the Responses API\n",
      "  run_steps = client.beta.threads.runs.steps.list(\n"
     ]
    }
   ],
   "source": [
    "# Analisando os passos do modelo\n",
    "run_steps = client.beta.threads.runs.steps.list(\n",
    "    thread_id=thread.id,\n",
    "    run_id=run.id\n",
    ")"
   ]
  },
  {
   "cell_type": "code",
   "execution_count": 13,
   "id": "4916a72d",
   "metadata": {},
   "outputs": [
    {
     "name": "stdout",
     "output_type": "stream",
     "text": [
      "\n",
      "=====Step message_creation\n"
     ]
    },
    {
     "name": "stderr",
     "output_type": "stream",
     "text": [
      "C:\\Users\\kaues\\AppData\\Local\\Temp\\ipykernel_15672\\2963295479.py:11: DeprecationWarning: The Assistants API is deprecated in favor of the Responses API\n",
      "  message = client.beta.threads.messages.retrieve(\n"
     ]
    },
    {
     "name": "stdout",
     "output_type": "stream",
     "text": [
      "Para determinar o número de linhas na cache e onde o bloco de endereço 0x1A23C será mapeado na cache, precisamos fazer alguns cálculos com base nas informações fornecidas.\n",
      "\n",
      "Dado que temos uma cache com mapeamento direto, o endereço da memória principal é dividido em três partes: tag, conjunto e offset. O offset é determinado pelo tamanho do bloco (64 bytes), o conjunto é determinado pela quantidade de linhas na cache e a tag é o restante.\n",
      "\n",
      "Vamos começar calculando o número de linhas na cache.\n",
      "\n",
      "=====Step tool_calls\n",
      "==========\n",
      "# Tamanho da cache em bytes\n",
      "cache_size = 256 * 1024  # 256 KB em bytes\n",
      "\n",
      "# Tamanho do bloco em bytes\n",
      "block_size = 64\n",
      "\n",
      "# Calculando o número de linhas na cache (conjuntos)\n",
      "num_lines = cache_size / block_size\n",
      "\n",
      "num_lines\n",
      "==========\n",
      "\n",
      "=====Step message_creation\n",
      "A cache possui 4096 linhas.\n",
      "\n",
      "Agora, vamos determinar onde o bloco de endereço 0x1A23C será mapeado na cache. Para isso, precisamos analisar a estrutura do endereço de memória:\n",
      "- O offset é determinado pelos bits menos significativos, devido ao tamanho do bloco.\n",
      "- O número de linhas na cache (4096) determina as possíveis posições para mapeamento.\n",
      "- Os bits restantes após o offset são usados para a tag.\n",
      "\n",
      "Vamos realizar os cálculos para determinar onde o bloco de endereço 0x1A23C será mapeado na cache.\n",
      "\n",
      "=====Step tool_calls\n",
      "==========\n",
      "import math\n",
      "\n",
      "# Endereço do bloco\n",
      "address = 0x1A23C\n",
      "\n",
      "# Tamanho do offset em bits\n",
      "offset_bits = int(math.log2(block_size))\n",
      "\n",
      "# Tamanho do índice (número de bits para representar as linhas na cache)\n",
      "index_bits = int(math.log2(num_lines))\n",
      "\n",
      "# Calculando o offset\n",
      "offset = address & (block_size - 1)\n",
      "\n",
      "# Calculando o índice (linha na cache)\n",
      "index = (address >> offset_bits) & (num_lines - 1)\n",
      "\n",
      "# Calculando a tag\n",
      "tag = address >> (offset_bits + index_bits)\n",
      "\n",
      "offset, index, tag\n",
      "==========\n",
      "\n",
      "=====Step message_creation\n",
      "Parece que houve um erro de tipo na operação bitwise \"&\". Vamos corrigir isso convertendo o número de linhas para um inteiro antes de realizar a operação. Vamos corrigir e recalcular.\n",
      "\n",
      "=====Step tool_calls\n",
      "==========\n",
      "# Convertendo o número de linhas para um inteiro\n",
      "num_lines = int(num_lines)\n",
      "\n",
      "# Recalculando o índice (linha na cache), offset e tag\n",
      "index = (address >> offset_bits) & (num_lines - 1)\n",
      "offset = address & (block_size - 1)\n",
      "tag = address >> (offset_bits + index_bits)\n",
      "\n",
      "offset, index, tag\n",
      "==========\n",
      "\n",
      "=====Step message_creation\n",
      "O bloco de endereço 0x1A23C será mapeado na linha (índice) 1672 da cache, com um deslocamento (offset) de 60 bytes. A tag para este bloco será 0.\n",
      "\n",
      "Se precisar de mais alguma coisa, não hesite em me chamar.\n"
     ]
    }
   ],
   "source": [
    "for step in run_steps.data[::-1]:\n",
    "    print(f\"\\n=====Step {step.step_details.type}\")\n",
    "\n",
    "    if step.step_details.type == \"tool_calls\":\n",
    "        for tool_call in step.step_details.tool_calls:\n",
    "            print(\"=\" * 10)\n",
    "            print(tool_call.code_interpreter.input)\n",
    "            print(\"=\" * 10)\n",
    "\n",
    "    if step.step_details.type == \"message_creation\":\n",
    "        message = client.beta.threads.messages.retrieve(\n",
    "            thread_id=thread.id,\n",
    "            message_id=step.step_details.message_creation.message_id\n",
    "        )\n",
    "\n",
    "        print(message.content[0].text.value)"
   ]
  },
  {
   "cell_type": "code",
   "execution_count": null,
   "id": "4994022d",
   "metadata": {},
   "outputs": [],
   "source": []
  },
  {
   "cell_type": "code",
   "execution_count": null,
   "id": "4d55a148",
   "metadata": {},
   "outputs": [],
   "source": []
  },
  {
   "cell_type": "code",
   "execution_count": null,
   "id": "f40dc288",
   "metadata": {},
   "outputs": [],
   "source": []
  },
  {
   "cell_type": "code",
   "execution_count": null,
   "id": "3ce15eb2",
   "metadata": {},
   "outputs": [],
   "source": []
  },
  {
   "cell_type": "code",
   "execution_count": null,
   "id": "1d69ddd6",
   "metadata": {},
   "outputs": [],
   "source": []
  },
  {
   "cell_type": "code",
   "execution_count": null,
   "id": "797eaff6",
   "metadata": {},
   "outputs": [],
   "source": []
  },
  {
   "cell_type": "code",
   "execution_count": null,
   "id": "3ff3a330",
   "metadata": {},
   "outputs": [],
   "source": []
  },
  {
   "cell_type": "code",
   "execution_count": null,
   "id": "af204298",
   "metadata": {},
   "outputs": [],
   "source": []
  },
  {
   "cell_type": "code",
   "execution_count": null,
   "id": "f2b6a63e",
   "metadata": {},
   "outputs": [],
   "source": []
  }
 ],
 "metadata": {
  "kernelspec": {
   "display_name": "env",
   "language": "python",
   "name": "python3"
  },
  "language_info": {
   "codemirror_mode": {
    "name": "ipython",
    "version": 3
   },
   "file_extension": ".py",
   "mimetype": "text/x-python",
   "name": "python",
   "nbconvert_exporter": "python",
   "pygments_lexer": "ipython3",
   "version": "3.12.7"
  }
 },
 "nbformat": 4,
 "nbformat_minor": 5
}
