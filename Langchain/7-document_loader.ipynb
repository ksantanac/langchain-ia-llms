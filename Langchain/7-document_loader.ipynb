{
 "cells": [
  {
   "cell_type": "code",
   "execution_count": 1,
   "metadata": {},
   "outputs": [],
   "source": [
    "from langchain_community.document_loaders.pdf import PyPDFLoader\n",
    "\n",
    "arquivo = \"files/apostila.pdf\"\n",
    "loader = PyPDFLoader(arquivo)\n",
    "documentos = loader.load()"
   ]
  },
  {
   "cell_type": "code",
   "execution_count": 2,
   "metadata": {},
   "outputs": [
    {
     "data": {
      "text/plain": [
       "28"
      ]
     },
     "execution_count": 2,
     "metadata": {},
     "output_type": "execute_result"
    }
   ],
   "source": [
    "len(documentos)"
   ]
  },
  {
   "cell_type": "code",
   "execution_count": 3,
   "metadata": {},
   "outputs": [
    {
     "data": {
      "text/plain": [
       "Document(metadata={'producer': 'Microsoft® Word 2013', 'creator': 'Microsoft® Word 2013', 'creationdate': '2016-05-04T10:06:39-03:00', 'author': 'lucas', 'moddate': '2016-05-04T10:06:39-03:00', 'source': 'files/apostila.pdf', 'total_pages': 28, 'page': 0, 'page_label': '1'}, page_content='INTRODUÇÃO À PROGRAMAÇÃO \\nCOM PYTHON \\n \\n \\n \\n \\n \\n \\n \\nPrograma de Educação Tutorial \\nGrupo PET - ADS   \\nIFSP -  Câmpus São Carlos')"
      ]
     },
     "execution_count": 3,
     "metadata": {},
     "output_type": "execute_result"
    }
   ],
   "source": [
    "documentos[0]"
   ]
  },
  {
   "cell_type": "code",
   "execution_count": 4,
   "metadata": {},
   "outputs": [
    {
     "data": {
      "text/plain": [
       "'3 \\n \\n2. Digite o comando sudo apt-get install python3.4 no terminal do GNU/Linux para inicializar \\no processo de instalação. \\n \\n \\n \\n3. Terminado o download, o interpretador já estará instalado no computador. \\n \\n \\n \\n \\nb) Instalação do IDLE no Linux \\n \\nO IDLE é um ambiente in tegrado de desenvolvimento que acompanha a instalação do interpretador \\nPython em sistemas operacionais Windows. Para tê -lo disponível em distribuições Linux basta \\nseguir as etapas abaixo: \\n \\n1. Acesse o terminal Linux. \\n \\n \\n \\n2. Digite o comando sudo apt-get install idle-python3.4. \\n \\n \\n \\n3. Para executá-lo basta digitar no terminal idle-python3.4 &.'"
      ]
     },
     "execution_count": 4,
     "metadata": {},
     "output_type": "execute_result"
    }
   ],
   "source": [
    "documentos[5].page_content"
   ]
  },
  {
   "cell_type": "code",
   "execution_count": 5,
   "metadata": {},
   "outputs": [
    {
     "name": "stderr",
     "output_type": "stream",
     "text": [
      "C:\\Users\\kaues\\AppData\\Local\\Temp\\ipykernel_6900\\2807888436.py:6: LangChainDeprecationWarning: This class is deprecated. See the following migration guides for replacements based on `chain_type`:\n",
      "stuff: https://python.langchain.com/docs/versions/migrating_chains/stuff_docs_chain\n",
      "map_reduce: https://python.langchain.com/docs/versions/migrating_chains/map_reduce_chain\n",
      "refine: https://python.langchain.com/docs/versions/migrating_chains/refine_chain\n",
      "map_rerank: https://python.langchain.com/docs/versions/migrating_chains/map_rerank_docs_chain\n",
      "\n",
      "See also guides on retrieval and question-answering here: https://python.langchain.com/docs/how_to/#qa-with-rag\n",
      "  chain = load_qa_chain(llm=chat, chain_type=\"stuff\", verbose=True)\n"
     ]
    }
   ],
   "source": [
    "from langchain.chains.question_answering import load_qa_chain\n",
    "from langchain_openai.chat_models import ChatOpenAI\n",
    "\n",
    "chat = ChatOpenAI(model=\"gpt-3.5-turbo-0125\")\n",
    "\n",
    "chain = load_qa_chain(llm=chat, chain_type=\"stuff\", verbose=True)"
   ]
  },
  {
   "cell_type": "code",
   "execution_count": 6,
   "metadata": {},
   "outputs": [
    {
     "name": "stderr",
     "output_type": "stream",
     "text": [
      "C:\\Users\\kaues\\AppData\\Local\\Temp\\ipykernel_6900\\429520648.py:2: LangChainDeprecationWarning: The method `Chain.run` was deprecated in langchain 0.1.0 and will be removed in 1.0. Use :meth:`~invoke` instead.\n",
      "  chain.run(input_documents=documentos[:8], question=pergunta)\n"
     ]
    },
    {
     "name": "stdout",
     "output_type": "stream",
     "text": [
      "\n",
      "\n",
      "\u001b[1m> Entering new StuffDocumentsChain chain...\u001b[0m\n",
      "\n",
      "\n",
      "\u001b[1m> Entering new LLMChain chain...\u001b[0m\n",
      "Prompt after formatting:\n",
      "\u001b[32;1m\u001b[1;3mSystem: Use the following pieces of context to answer the user's question.\n",
      "If you don't know the answer, just say that you don't know, don't try to make up an answer.\n",
      "----------------\n",
      "INTRODUÇÃO À PROGRAMAÇÃO \n",
      "COM PYTHON \n",
      " \n",
      " \n",
      " \n",
      " \n",
      " \n",
      " \n",
      " \n",
      "Programa de Educação Tutorial \n",
      "Grupo PET - ADS   \n",
      "IFSP -  Câmpus São Carlos\n",
      "\n",
      "Sumário \n",
      "PREFÁCIO ................................ ................................ ................................ ........................  1 \n",
      "1. INTRODUÇÃO ................................ ................................ ................................ .............. 2 \n",
      "1.1 Características da linguagem Python ................................ ................................ ..... 2 \n",
      "1.2 Instalação do interpretador Python ................................ ................................ ....... 2 \n",
      "2. VARIÁVEIS ................................ ................................ ................................ ................... 4 \n",
      "3. STRINGS ................................ ................................ ................................ ...................... 6 \n",
      "3.1 Concatenação de strings ................................ ................................ ........................  6 \n",
      "3.2 Manipulação de strings ................................ ................................ ..........................  7 \n",
      "3.3 Fatiamento de strings ................................ ................................ ............................  8 \n",
      "3.4 Exercícios: strings ................................ ................................ ................................ .. 8 \n",
      "4. NÚMEROS ................................ ................................ ................................ ................... 9 \n",
      "4.1 Operadores numéricos ................................ ................................ ..........................  9 \n",
      "4.2 Exercícios: números ................................ ................................ ...............................  9 \n",
      "5. LISTAS ................................ ................................ ................................ ....................... 10 \n",
      "5.1 Funções para manipulação de listas ................................ ................................ .... 10 \n",
      "5.2 Operações com listas ................................ ................................ ...........................  11 \n",
      "5.3 Fatiamento de listas ................................ ................................ ............................  11 \n",
      "5.4 Criação de listas com range ( ) ................................ ................................ ............. 12 \n",
      "5.5 Exercícios: listas ................................ ................................ ................................ ... 12 \n",
      "6. TUPLAS ................................ ................................ ................................ ..................... 13 \n",
      "7. DICIONÁRIOS ................................ ................................ ................................ ............ 13 \n",
      "7.1 Operações em dicionários ................................ ................................ ................... 14 \n",
      "7.2 Exercícios: dicionários ................................ ................................ ..........................  14 \n",
      "8. BIBLIOTECAS ................................ ................................ ................................ ............. 15 \n",
      "9. ESTRUTURAS DE DECISÃO ................................ ................................ .........................  15 \n",
      "9.1 Estrutura if ................................ ................................ ................................ ........... 16 \n",
      "9.2 Estrutura if..else ................................ ................................ ................................ .. 16 \n",
      "9.3 Comando if..elif..else ................................ ................................ ...........................  16 \n",
      "9.4 Exercícios: estruturas de decisão ................................ ................................ ......... 17\n",
      "\n",
      "10. ESTRUTURAS DE REPETIÇÃO ................................ ................................ ................... 17 \n",
      "10.1 Laço while ................................ ................................ ................................ .......... 17 \n",
      "10.2 Laço for ................................ ................................ ................................ .............. 18 \n",
      "10.3 Exercícios: estrutura de repetição................................ ................................ ...... 19 \n",
      "11. FUNÇÕES ................................ ................................ ................................ ................ 19 \n",
      "11.1 Como definir uma função ................................ ................................ .................. 19 \n",
      "11.2 Parâmetros e argumentos ................................ ................................ ................. 19 \n",
      "11.3 Escopo das variáveis ................................ ................................ ..........................  20 \n",
      "11.4 Retorno de valores ................................ ................................ ............................  20 \n",
      "11.5 Valor padrão ................................ ................................ ................................ ...... 21 \n",
      "11.6 Exercícios: funções................................ ................................ .............................  21 \n",
      "12. RESPOSTAS DOS EXERCÍCIOS ................................ ................................ ................... 22 \n",
      "BIBLIOGRAFIA ................................ ................................ ................................ ............... 25\n",
      "\n",
      "1 \n",
      " \n",
      "PREFÁCIO \n",
      " \n",
      "Este material foi escrito para ser utilizado em cursos de extensão de  Introdução à \n",
      "Programação com Python , do Instituto Federal de Educação, Ciência e Tecnologia de \n",
      "São Paulo, câmpus São Carlos. \n",
      "A apostila foi desenvolvida pelo s integrantes do Programa de Educação Tutorial do curso \n",
      "de Tecnologia em Análise e Desenvolvimento de Sistemas - grupo PET ADS / IFSP São \n",
      "Carlos. O grupo iniciou suas atividades em 2011 , e realiza atividades diversas  envolvendo \n",
      "Ensino, Pesquisa e Extensão. Entre as linguagens e ferramentas de programação estudadas \n",
      "pelo grupo estão: o ambiente de desenvolvimento Lazarus, o editor de jogos Construct 2, as \n",
      "linguagens Ruby, Python e JavaScript, os frameworks Rails, Django, Web2Py e Grails.  \n",
      "A linguagem Python s e destacou pela facilidade de programação e versatilidade. Python é \n",
      "uma linguagem de uso geral, que pode ser utilizada para diversas aplicações. Apresenta \n",
      "uma sintaxe simples, tornando os programas mais legíveis, o que também facilita o \n",
      "aprendizado da ling uagem. Possui listas, dicionários e tuplas como estruturas de dados \n",
      "pré-definidas. É uma linguagem multiparadigma: suporta os paradigmas de programação \n",
      "procedural, funcional e orientado a objetos.  \n",
      "Diversos petianos colaboraram na confecção desta apostila.  Mas gostaria de agradecer \n",
      "especialmente quatro estudantes que se destacaram pelo empenho e dedicação na \n",
      "execução dessa tarefa: José Picharillo, Lucas Limão, Viviane Quinaia e Camila Couto.   \n",
      "Este é um material de apoio para um curso de extensão introdutório, cujo objetivo é \n",
      "divulgar a linguagem Python. Não é um material preparado para autoaprendizagem, \n",
      "embora seja possível utilizá-lo com esse fim.  \n",
      "Reforçando, este é um material introdutório. Tem muito mais para aprender em Python: \n",
      "orientação a objetos, programação funcional, metaprogramação, interface gráfica, \n",
      "expressões regulares, threads, tratamento de exceções, funções anônimas, geradores, \n",
      "desenvolvimento web, aplicativos móveis, entre outras.  \n",
      "Bem-vindo ao mundo Python! \n",
      " \n",
      " \n",
      " \n",
      "Prof. Dr. João Luiz Franco \n",
      "Tutor do grupo PET - ADS / São Carlos\n",
      "\n",
      "2 \n",
      " \n",
      " \n",
      "1. INTRODUÇÃO \n",
      " \n",
      "1.1 Características da linguagem Python \n",
      " \n",
      "A linguagem de programação Python  foi criada  em 1991  por Guido V an Rossum em, com a \n",
      "finalidade de ser uma linguagem simples e de fácil compreensão. Ape sar de simples, Python é uma \n",
      "linguagem muito poderosa, que pode ser usada para desenvolver e administrar grandes sistemas. \n",
      " \n",
      "Uma das principais características que diferencia a linguagem Python das outras é a legibilidade dos \n",
      "programas escritos. Isto ocorre porque , em outras linguagens , é muito comum o uso  excessivo de \n",
      "marcações (p onto ou ponto e vírgula ), de marcadores ( chaves, colchetes ou parêntes es) e de \n",
      "palavras especiais (begin/end), o que torna mais difícil a leitura e compreensão dos programas. Já \n",
      "em Python, o uso desses recursos é reduzido, deixando a linguagem visualmente mais limpa, de \n",
      "fácil compreensão e leitura. \n",
      " \n",
      "Entre outras características existentes n a linguagem P ython, destaca-se a simplicidade da \n",
      "linguagem, que facilita o aprendizado da programação. Python também possui uma portabilidade \n",
      "muito grande para diversas plataformas diferentes, além de ser possível utilizar trechos de código s \n",
      "em outras linguagens. \n",
      " \n",
      "Python é um software livre, ou seja, permite que usuários e colaboradores possam modificar seu \n",
      "código fonte  e compartilhar essas novas atualizações , contribuindo para o constante  \n",
      "aperfeiçoamento da linguagem. A especificação da linguagem é mantida pela empresa Python \n",
      "Software Foundation (PSF). \n",
      " \n",
      " \n",
      "1.2 Instalação do interpretador Python \n",
      " \n",
      "a) Instalação de Python no Linux \n",
      " \n",
      "Nas versões mais recentes do GNU/Linux , o Python já se encontra instalado , b astando ao \n",
      "programador entrar no terminal e digitar python. Caso não esteja , segue m os passos para a \n",
      "instalação no terminal: \n",
      " \n",
      "1. Acesse o terminal Linux.\n",
      "\n",
      "3 \n",
      " \n",
      "2. Digite o comando sudo apt-get install python3.4 no terminal do GNU/Linux para inicializar \n",
      "o processo de instalação. \n",
      " \n",
      " \n",
      " \n",
      "3. Terminado o download, o interpretador já estará instalado no computador. \n",
      " \n",
      " \n",
      " \n",
      " \n",
      "b) Instalação do IDLE no Linux \n",
      " \n",
      "O IDLE é um ambiente in tegrado de desenvolvimento que acompanha a instalação do interpretador \n",
      "Python em sistemas operacionais Windows. Para tê -lo disponível em distribuições Linux basta \n",
      "seguir as etapas abaixo: \n",
      " \n",
      "1. Acesse o terminal Linux. \n",
      " \n",
      " \n",
      " \n",
      "2. Digite o comando sudo apt-get install idle-python3.4. \n",
      " \n",
      " \n",
      " \n",
      "3. Para executá-lo basta digitar no terminal idle-python3.4 &.\n",
      "\n",
      "4 \n",
      " \n",
      "c) Instalação do Python no Windows \n",
      " \n",
      "A instalação do interpretador Python para Windows é mais simples, conforme apresentado a seguir: \n",
      " \n",
      "1. Entre no site www.python.org. Na aba download selecione a versão 3.5.1. \n",
      " \n",
      "2. Após o download, execute o instalador mantendo, por default, todas as configurações a cada \n",
      "passo da instalação. Depois clique em Finalizar e o interpretador Python já est ará instalado \n",
      "no computador. \n",
      " \n",
      "Caso você não consiga executar o interpretador Python pelo prompt de comando, provavelmente o \n",
      "path não está configurado. Veja abaixo os passos para configurá-lo: \n",
      " \n",
      "1. Com o cursor do mouse vá até Computador, clique  com o botão direito e escolha \n",
      "Propriedades. \n",
      " \n",
      "2. Depois clique em Configurações avançadas do sistema e, a seguir, Variáveis de ambiente. \n",
      " \n",
      "3. Com ajuda da barra de rolagem  procure a variável chamada path, selecione-a e escolha a \n",
      "opção Editar. \n",
      " \n",
      "4. Na próxima janela , no campo Valor de variável , você irá encontrar uma lista contendo \n",
      "vários paths de outros programas. Para adicionar um novo path, vá até o final da lista e \n",
      "acrescente um ponto e vírgula  ( ; ). Depois disso , copie o endereço da pasta onde se \n",
      "encontra instalado o interpretador Python e cole após ponto e vírgula. \n",
      " \n",
      " \n",
      "2. V ARIÁVEIS \n",
      " \n",
      "Variáveis são pequenos espaços de memória, utilizados para armazenar e manipular dados. Em \n",
      "Python, os tipos de dados básicos são:  tipo inteiro (armazena números inteiros), tipo float (armazena \n",
      "números em formato decimal ), e tipo string (armazena um conjun to de caracteres). Cada variável \n",
      "pode armazenar apenas um tipo de dado a cada instante. \n",
      " \n",
      "Em Python, diferentemente de outras linguagens de programação, não é preciso declarar de que tipo \n",
      "será cada variável no início do programa. Q uando se faz uma atribuição de valor, automaticamente a \n",
      "variável se torna do tipo do valor armazenado, como apresentado nos exemplos a seguir:  \n",
      " \n",
      "Exemplos: \n",
      " \n",
      "A variável a se torna uma variável do tipo inteiro.\n",
      "\n",
      "5 \n",
      " \n",
      " \n",
      "A variável b se torna uma variável do tipo float. \n",
      " \n",
      "A variável c se torna uma variável do tipo string. \n",
      " \n",
      "A atribuição de valor para uma variável pode ser feita utilizando o comando input(), que \n",
      "solicita ao usuário o valor a ser atribuído à variável. \n",
      " \n",
      "Exemplo: \n",
      " \n",
      " \n",
      " \n",
      "O comando input(), sempre vai retornar uma s tring. Nesse caso, para retornar dados do tipo \n",
      "inteiro ou float, é preciso converter o tipo do valor lido . Para isso, utiliza-se o int (string) para \n",
      "converter para o tipo inteiro, ou float (string) para converter para o tipo float. \n",
      " \n",
      " \n",
      "Exemplos: \n",
      " \n",
      " \n",
      " \n",
      " \n",
      " \n",
      "Em Python, os nomes da s variáveis devem ser inicia dos com uma letra, mas podem possuir outros \n",
      "tipos de caracteres, como números e símbolos. O símbolo sublinha ( _ ) também é aceito no início \n",
      "de nomes de variáveis.\n",
      "Human: Do que se trata esse documento?\u001b[0m\n",
      "\n",
      "\u001b[1m> Finished chain.\u001b[0m\n",
      "\n",
      "\u001b[1m> Finished chain.\u001b[0m\n"
     ]
    },
    {
     "data": {
      "text/plain": [
       "'Esse documento parece ser um material educativo introdutório para um curso de extensão de Introdução à Programação com Python, destinado aos estudantes do Instituto Federal de Educação, Ciência e Tecnologia de São Paulo, no campus de São Carlos. Ele aborda tópicos como características da linguagem Python, instalação do interpretador Python, variáveis, strings, números, listas, tuplas, dicionários, bibliotecas, estruturas de decisão, estruturas de repetição, funções, entre outros assuntos relacionados à linguagem de programação Python.'"
      ]
     },
     "execution_count": 6,
     "metadata": {},
     "output_type": "execute_result"
    }
   ],
   "source": [
    "pergunta = \"Do que se trata esse documento?\"\n",
    "chain.run(input_documents=documentos[:8], question=pergunta)"
   ]
  },
  {
   "cell_type": "markdown",
   "metadata": {},
   "source": [
    "### Carregamento Arquivo CSV"
   ]
  },
  {
   "cell_type": "code",
   "execution_count": 7,
   "metadata": {},
   "outputs": [],
   "source": [
    "from langchain_community.document_loaders.csv_loader import CSVLoader\n",
    "\n",
    "arquivo = \"files/imdb_movies.csv\"\n",
    "loader = CSVLoader(arquivo)\n",
    "documentos = loader.load()"
   ]
  },
  {
   "cell_type": "code",
   "execution_count": 8,
   "metadata": {},
   "outputs": [
    {
     "data": {
      "text/plain": [
       "Document(metadata={'source': 'files/imdb_movies.csv', 'row': 5}, page_content=': 5\\nMovie Name: The Godfather: Part II\\nYear of Release: (1974)\\nWatch Time: 202 min\\nMovie Rating: 9.0\\nMeatscore of movie: 90\\nVotes: 34,709\\nGross: $57.30M\\nDescription: The early life and career of Vito Corleone in 1920s New York City is portrayed, while his son, Michael, expands and tightens his grip on the family crime syndicate.')"
      ]
     },
     "execution_count": 8,
     "metadata": {},
     "output_type": "execute_result"
    }
   ],
   "source": [
    "documentos[5]"
   ]
  },
  {
   "cell_type": "code",
   "execution_count": 9,
   "metadata": {},
   "outputs": [
    {
     "data": {
      "text/plain": [
       "1000"
      ]
     },
     "execution_count": 9,
     "metadata": {},
     "output_type": "execute_result"
    }
   ],
   "source": [
    "len(documentos)"
   ]
  },
  {
   "cell_type": "code",
   "execution_count": 10,
   "metadata": {},
   "outputs": [
    {
     "data": {
      "text/plain": [
       "{'source': 'files/imdb_movies.csv', 'row': 80}"
      ]
     },
     "execution_count": 10,
     "metadata": {},
     "output_type": "execute_result"
    }
   ],
   "source": [
    "documentos[80].metadata"
   ]
  },
  {
   "cell_type": "code",
   "execution_count": 11,
   "metadata": {},
   "outputs": [
    {
     "name": "stdout",
     "output_type": "stream",
     "text": [
      "\n",
      "\n",
      "\u001b[1m> Entering new StuffDocumentsChain chain...\u001b[0m\n",
      "\n",
      "\n",
      "\u001b[1m> Entering new LLMChain chain...\u001b[0m\n",
      "Prompt after formatting:\n",
      "\u001b[32;1m\u001b[1;3mSystem: Use the following pieces of context to answer the user's question.\n",
      "If you don't know the answer, just say that you don't know, don't try to make up an answer.\n",
      "----------------\n",
      ": 0\n",
      "Movie Name: The Shawshank Redemption\n",
      "Year of Release: (1994)\n",
      "Watch Time: 142 min\n",
      "Movie Rating: 9.3\n",
      "Meatscore of movie: 81\n",
      "Votes: 34,709\n",
      "Gross: $28.34M\n",
      "Description: Two imprisoned men bond over a number of years, finding solace and eventual redemption through acts of common decency.\n",
      "\n",
      ": 1\n",
      "Movie Name: The Godfather\n",
      "Year of Release: (1972)\n",
      "Watch Time: 175 min\n",
      "Movie Rating: 9.2\n",
      "Meatscore of movie: 100\n",
      "Votes: 34,709\n",
      "Gross: $134.97M\n",
      "Description: The aging patriarch of an organized crime dynasty in postwar New York City transfers control of his clandestine empire to his reluctant youngest son.\n",
      "\n",
      ": 2\n",
      "Movie Name: The Dark Knight\n",
      "Year of Release: (2008)\n",
      "Watch Time: 152 min\n",
      "Movie Rating: 9.0\n",
      "Meatscore of movie: 84\n",
      "Votes: 34,709\n",
      "Gross: $534.86M\n",
      "Description: When the menace known as the Joker wreaks havoc and chaos on the people of Gotham, Batman must accept one of the greatest psychological and physical tests of his ability to fight injustice.\n",
      "\n",
      ": 3\n",
      "Movie Name: The Lord of the Rings: The Return of the King\n",
      "Year of Release: (2003)\n",
      "Watch Time: 201 min\n",
      "Movie Rating: 9.0\n",
      "Meatscore of movie: 94\n",
      "Votes: 34,709\n",
      "Gross: $377.85M\n",
      "Description: Gandalf and Aragorn lead the World of Men against Sauron's army to draw his gaze from Frodo and Sam as they approach Mount Doom with the One Ring.\n",
      "\n",
      ": 4\n",
      "Movie Name: Schindler's List\n",
      "Year of Release: (1993)\n",
      "Watch Time: 195 min\n",
      "Movie Rating: 9.0\n",
      "Meatscore of movie: 94\n",
      "Votes: 34,709\n",
      "Gross: $96.90M\n",
      "Description: In German-occupied Poland during World War II, industrialist Oskar Schindler gradually becomes concerned for his Jewish workforce after witnessing their persecution by the Nazis.\n",
      "\n",
      ": 5\n",
      "Movie Name: The Godfather: Part II\n",
      "Year of Release: (1974)\n",
      "Watch Time: 202 min\n",
      "Movie Rating: 9.0\n",
      "Meatscore of movie: 90\n",
      "Votes: 34,709\n",
      "Gross: $57.30M\n",
      "Description: The early life and career of Vito Corleone in 1920s New York City is portrayed, while his son, Michael, expands and tightens his grip on the family crime syndicate.\n",
      "\n",
      ": 6\n",
      "Movie Name: 12 Angry Men\n",
      "Year of Release: (1957)\n",
      "Watch Time: 96 min\n",
      "Movie Rating: 9.0\n",
      "Meatscore of movie: 96\n",
      "Votes: 34,709\n",
      "Gross: $4.36M\n",
      "Description: The jury in a New York City murder trial is frustrated by a single member whose skeptical caution forces them to more carefully consider the evidence before jumping to a hasty verdict.\n",
      "\n",
      ": 7\n",
      "Movie Name: Jai Bhim\n",
      "Year of Release: (2021)\n",
      "Watch Time: 164 min\n",
      "Movie Rating: 8.9\n",
      "Meatscore of movie: ****\n",
      "Votes: 34,709\n",
      "Gross: #248\n",
      "Description: When a tribal man is arrested for a case of alleged theft, his wife turns to a human-rights lawyer to help bring justice.\n",
      "\n",
      ": 8\n",
      "Movie Name: Pulp Fiction\n",
      "Year of Release: (1994)\n",
      "Watch Time: 154 min\n",
      "Movie Rating: 8.9\n",
      "Meatscore of movie: 94\n",
      "Votes: 34,709\n",
      "Gross: $107.93M\n",
      "Description: The lives of two mob hitmen, a boxer, a gangster and his wife, and a pair of diner bandits intertwine in four tales of violence and redemption.\n",
      "\n",
      ": 9\n",
      "Movie Name: Inception\n",
      "Year of Release: (2010)\n",
      "Watch Time: 148 min\n",
      "Movie Rating: 8.8\n",
      "Meatscore of movie: 74\n",
      "Votes: 34,709\n",
      "Gross: $292.58M\n",
      "Description: A thief who steals corporate secrets through the use of dream-sharing technology is given the inverse task of planting an idea into the mind of a C.E.O., but his tragic past may doom the project and his team to disaster.\n",
      "Human: Qual filme com menor e maior metascore?\u001b[0m\n",
      "\n",
      "\u001b[1m> Finished chain.\u001b[0m\n",
      "\n",
      "\u001b[1m> Finished chain.\u001b[0m\n"
     ]
    },
    {
     "data": {
      "text/plain": [
       "'O filme com o menor Metascore é \"12 Angry Men\" com uma pontuação de 96, enquanto o filme com o maior Metascore é \"The Godfather\" com uma pontuação perfeita de 100.'"
      ]
     },
     "execution_count": 11,
     "metadata": {},
     "output_type": "execute_result"
    }
   ],
   "source": [
    "pergunta = \"Qual filme com menor e maior metascore?\"\n",
    "chain.run(input_documents=documentos[:10], question=pergunta)"
   ]
  },
  {
   "cell_type": "markdown",
   "metadata": {},
   "source": [
    "### Carregando Vídeos do Youtube"
   ]
  },
  {
   "cell_type": "code",
   "execution_count": 12,
   "metadata": {},
   "outputs": [],
   "source": [
    "from langchain_community.document_loaders.generic import GenericLoader\n",
    "from langchain_community.document_loaders.blob_loaders.youtube_audio import YoutubeAudioLoader\n",
    "from langchain.document_loaders.parsers import OpenAIWhisperParser ## transicao do audio"
   ]
  },
  {
   "cell_type": "code",
   "execution_count": 13,
   "metadata": {},
   "outputs": [
    {
     "name": "stdout",
     "output_type": "stream",
     "text": [
      "[youtube] Extracting URL: https://www.youtube.com/watch?v=ox3-BEfHHnk&t=16s\n",
      "[youtube] ox3-BEfHHnk: Downloading webpage\n",
      "[youtube] ox3-BEfHHnk: Downloading tv client config\n",
      "[youtube] ox3-BEfHHnk: Downloading player 093288cd-main\n",
      "[youtube] ox3-BEfHHnk: Downloading tv player API JSON\n",
      "[youtube] ox3-BEfHHnk: Downloading ios player API JSON\n",
      "[youtube] ox3-BEfHHnk: Downloading m3u8 information\n",
      "[info] Testing format 234\n",
      "[info] ox3-BEfHHnk: Downloading 1 format(s): 234\n",
      "[hlsnative] Downloading m3u8 manifest\n",
      "[hlsnative] Total fragments: 299\n",
      "[download] Destination: files\\youtube\\Crie 3 Apps Simples com Python Usando a Biblioteca Gradio.mp4\n",
      "[download] 100% of   23.23MiB in 00:00:33 at 711.68KiB/s                 \n",
      "[ExtractAudio] Destination: files\\youtube\\Crie 3 Apps Simples com Python Usando a Biblioteca Gradio.m4a\n",
      "Deleting original file files\\youtube\\Crie 3 Apps Simples com Python Usando a Biblioteca Gradio.mp4 (pass -k to keep)\n",
      "Transcribing part 1!\n",
      "Transcribing part 2!\n"
     ]
    }
   ],
   "source": [
    "url = \"https://www.youtube.com/watch?v=ox3-BEfHHnk&t=16s\"\n",
    "save_dir = \"files/youtube\"\n",
    "loader = GenericLoader(\n",
    "    YoutubeAudioLoader([url], save_dir),\n",
    "    OpenAIWhisperParser()\n",
    ")\n",
    "docs = loader.load()"
   ]
  },
  {
   "cell_type": "code",
   "execution_count": 14,
   "metadata": {},
   "outputs": [
    {
     "data": {
      "text/plain": [
       "2"
      ]
     },
     "execution_count": 14,
     "metadata": {},
     "output_type": "execute_result"
    }
   ],
   "source": [
    "len(docs)"
   ]
  },
  {
   "cell_type": "code",
   "execution_count": 15,
   "metadata": {},
   "outputs": [
    {
     "data": {
      "text/plain": [
       "'até o presente momento nós abordamos os tópicos que são fundamentais ali na programação com a linguagem python principalmente na parte fundamental seja o fundamento seja os módulos orientação objetos '"
      ]
     },
     "execution_count": 15,
     "metadata": {},
     "output_type": "execute_result"
    }
   ],
   "source": [
    "docs[0].page_content[:200]"
   ]
  },
  {
   "cell_type": "code",
   "execution_count": 16,
   "metadata": {},
   "outputs": [
    {
     "name": "stdout",
     "output_type": "stream",
     "text": [
      "\n",
      "\n",
      "\u001b[1m> Entering new StuffDocumentsChain chain...\u001b[0m\n",
      "\n",
      "\n",
      "\u001b[1m> Entering new LLMChain chain...\u001b[0m\n",
      "Prompt after formatting:\n",
      "\u001b[32;1m\u001b[1;3mSystem: Use the following pieces of context to answer the user's question.\n",
      "If you don't know the answer, just say that you don't know, don't try to make up an answer.\n",
      "----------------\n",
      "até o presente momento nós abordamos os tópicos que são fundamentais ali na programação com a linguagem python principalmente na parte fundamental seja o fundamento seja os módulos orientação objetos banco de dados e assim por diante eu acredito que você ficou pensando bem seria mais fácil de assimilar os conteúdos se eu utilizasse uma interface gráfica e bem nós temos alguns exemplos de interface gráfica que no curso né como tequim de estrelite flat e outras bibliotecas também ok e aí porque então falar de grade o grade ou é a biblioteca que eu deixei para explicar sobre ela e ter uma sessão específica sobre ela porque ainda que seja uma biblioteca não tão popular assim mas de todas as que a gente teve até aqui no curso é a mais simples bom você vai ver que a gente vai conseguir construir aplicações web com interfaces interessantes de forma bem simples tá e é uma forma inclusive de tentar entender um pouco mais os conceitos do paito utilizando uma estrutura que forneça uma interface de usuário pra gente bom então a ideia dessa aula é conhecer um pouco sobre essa biblioteca tá assim como estrelite né o propósito dela seria para construir e compartilhar aplicações focadas em machine learning tá bom e eu tenho que te dizer o seguinte a gente não vai trabalhar com machine learning nessa sessão o objetivo é construir aplicações gerais do paito tá bom a gente vai incluir ainda o conhecimento conteúdo de machine learning que no curso porém nós temos uma sessão no momento que eu gravo aqui se esta aula já temos uma sessão aqui no curso focada em hugging face que é uma plataforma que permite nós construirmos aplicações inteligentes seja na área de visão computacional seja na área de processamento de linguagem natural e aí nesses dois nessas duas sessões a gente acaba utilizando o Gradle pra criar uma interface de usuário para o modelo que a gente está construindo lá seja em visão computacional seja em processamento de linguagem natural tá bom então além dessa sessão aqui do Gradle a gente tem conteúdo do Gradle espalhado aí nestas sessões que falamos sobre o Hugging Face ok beleza então vamos conhecer um pouco mais sobre o Gradle olha só a simplicidade né é você tem aqui uma uma função que basicamente ele espera um nome como parâmetro e aí você cria uma interface passa o nome da sua função o input que é um texto e o output que é um texto então eu vou digitar aqui Rodrigo vou enviar o Submit Hello Rodrigo se eu alterar aqui pra fulano vou enviar o Submit e ele enviou aqui Submit também tá fácil e simples como você pode conferir aqui tá bom além disso né tem outros exemplos que a gente tem também como o AirBnB Map vamos ver se ele carrega aqui, olha ele carregou aqui o AirBnB do Map né trouxe aqui algumas informações, Streaming Chatbot ele traz aqui as informações também você pode conversar com ele, Diffusion Faces e outros exemplos que você pode explorar um pouco mais aí acessando o site tá bom pode gerar imagens aqui e ele pode você pode clicar aqui mais imagens para ele gerar aqui também tá bom beleza né então é fácil de construir é rápido né tem a possibilidade de você compartilhar suas aplicações você pode hospedar as aplicações do Gradle no Hugging Face Spaces então esse ecossistema de dados né Hugging Face, Inteligência Artificial tem feito com que o Gradle se torne uma biblioteca ainda mais popular tá bom ela não é tão popular quanto o Streetlit e outras bibliotecas mas aos poucos né ela vai conseguindo ganhar o seu o seu pedaço aí no mercado e vai se tornando cada vez mais famosa tá bom mas beleza vou clicar aqui no Quick Start e existem aqui alguns exemplos né você pode verificar aqui o Quick Start construindo seu primeiro exemplo né tem aqui mais informações aqui na documentação chatbots enfim né vou voltar aqui aqui nós temos a parte de documentação então a documentação aqui a gente vai focar no Gradle focando na linguagem Python tá e aí você tem aqui as possibilidades você pode clicar aqui neles depois tem aqui o Playground, Playground ele gera alguns exemplos aqui do lado esquerdo e do lado direito aqui o preview então tem vários exemplos já aqui na parte de mídia, filters, sepia e assim por diante tem a parte de componentes customizados que assim como lá no Streetlit a gente tem também a gente pode utilizar esses componentes customizados tá e acessar um pouco mais informações sobre eles né e aí tem a comunidade aqui também tá bom então a ideia é basicamente mostrar que ao longo dessa sessão na prática né como a gente pode incluir o Gradle dentro dos nossos projetos e aí pensando nisso eu já vou vir aqui ó eu vou criar uma pasta vazia do Gradle que eu já fiz aqui vou abrir o Visual Studio Code e eu vou abrir essa pasta aqui dentro do Visual Studio Code tá bom então tá aqui o Visual Studio Code vou abrir essa pasta aqui dentro beleza então no terminal primeiramente a gente precisa instalar essa biblioteca tá para instalar pip install gradle vou dar um enter mostrar aqui explicar que também né na sessão atual que é essa sessão que eu estou gravando aqui essa aula a gente não vai focar ainda na parte da produção né pegar um aplicativo e colocar em deploy em produção mas se você ir mais adiante aqui no curso né lá focando ali nos modelos de visão computacional do Hugging Face lá vai ter um laboratório em que eu vou criar uma aplicação web com o Gradle e vamos hospedar essa aplicação web com o Hugging Face Spaces tá bom então é uma excelente forma de você entender como fazer o deploy de uma aplicação Gradle de forma gratuita e bem rápido tá bom bem enquanto eu estava explicando a biblioteca foi instalada e perfeito tá tendo instalado o Gradle a gente já está apto para começar o desenvolvimento nessa biblioteca e vamos fazer isso então a partir da próxima aula vamos começar nessa aula desenvolvendo algumas aplicações com o Gradle a ideia é bem simples basicamente a gente vai criar três aplicações primeiramente três funções uma foca focado ali em uma função que vai somar dois números a outra relacionada a gente conseguir inverter um texto e também obter o tamanho de um texto quantos caracteres naquele texto tem e por último a gente vai calcular uma função de fatorial e aí em todos esses casos a gente vai finalizar com a interface com o Gradle tá bom e vamos executar essa aplicação e assim por diante então vai ser uma excelente forma da gente praticar colocar a mão na massa e ver que o Gradle ele pode servir como essa biblioteca que cria uma interface gráfica de forma bem rápida para que a gente consiga digamos de forma didática explicar o que está acontecendo ali por debaixo dos panos tá bom então eu vou criar aqui um arquivo que eu vou chamar de app underline soma.py como o meu objetivo é criar aplicação sempre que eu vou criar aplicações eu gosto de criar com o arquivo .py agora quando eu vou explicar alguma coisa e eu quero que explicando e à medida que eu vou explicando já vou executando o código tá célula célula a gente utiliza o formato o tipo de arquivo .ipynb tá bom essa é uma boa prática que eu tenho adotado e pela experiência que eu tenho tido em relação aos alunos né os alunos têm gostado dessa forma tá bom bem na última aula nós instalamos o Gradle então agora eu posso importar o Gradle import Gradle sgr então aqui o que eu estou fazendo estou dando um apelido para a minha biblioteca porque aí a partir de então toda vez que me referir ao Gradle eu posso utilizar o apelido que eu defini beleza então basicamente essa é a ideia tá eu vou agora criar a minha função tá certo então deve somar essa função ela vai ter dois parâmetros que é o parâmetro número um e o parâmetro número dois e aí eu vou retornar o número um mais o número dois beleza porque já que a minha função é pra somar e aí a gente tem aqui a nossa nós temos aqui o nosso exemplo tá então se eu quero executar essa função eu chamo a função somar e eu passo pra ele 5 que é o número 1 e 4 que é o número 2 tá bom e aí como ele está retornando o que que eu faço aqui eu vou colocar esse cara aqui dentro de um print beleza que aí ele vai aparecer a mensagem aqui no terminal pra gente tá bom, vou dar aqui um CTRL, CTRL, Python, app, pressiono no tab e dou um enter vamos aguardar aqui enquanto ele executa ele está com um problema aqui no interpretador eu vou pegar esse interpretador aqui que estava pronto ele não tinha reconhecido agora ele já retornou aqui pra gente tá bom se eu altero aqui ó 3 e 2 recupera o comando pra cima e dou um enter ele já executa aqui pra gente tá bom beleza vou dar um CTRL, perfeito pessoal só que aí tem um porém né o porém é que a gente não tem nós não temos a gente quer criar uma interface com o Gradle pra que o usuário ao ver essa execução aqui no terminal ele possa executar uma aplicação web então é isso que eu vou fazer agora vou criar aqui minha interface e aí do módulo GR eu tenho aqui o interface e aí eu preciso passar algumas informações por exemplo qual é a função a função é a função somar que a gente já tem ali preciso passar os inputs no meu caso eu vou ter dois inputs tá esses dois inputs são do tipo NUMBER que é o número 1 e o número 2 eu preciso ter também o OUTPUT, no OUTPUTS aqui eu vou ter apenas 1 que é uma informação que é do tipo NUMBER posso ter aqui um TITLE eu vou definir que é uma calculadora de soma posso ter também um DESCRIPTION eu vou definir aqui INSERA dois números para obter a soma e aí eu posso utilizar que o TEM que é o DEFAULT, beleza, certo, aqui a gente passa entre aspas beleza e aí agora pessoal passo aqui o IFACE.LAUNCH basicamente é isso tá criamos aqui a nossa função para definir o GRADLE, definir a interface visual com o GRADLE, então agora eu posso executar novamente PYTHON, APP, pressiono TAB e dou ENTER e ele vai executar aqui pra gente o GRADLE, tá bom então veja como é bem simples tá pessoal aqui a gente tem aqui uma função definir a função, INPUTS são os dois parâmetros, OUTPUTS é o que ele vai retornar que é um número aí depois é só o TITLE, DESCRIPÇÃO que isso aqui é opcional mas é bom que tenha né e o TEM DEFAULT, beleza, então se eu copiar isso aqui agora, vou colar, olha só que legal pessoal eu tenho agora uma aplicação web que tem uma interface de usuário né pra essa pra essa função que eu acabei de criar, eu posso definir aqui 6 mais 3 SUBMIT é igual a 9 beleza 6 mais 10 SUBMIT 16, vou botar aqui um valor específico ele já retorna aqui pra gente tá bom e o legal pessoal é que agora a gente tem uma interface de usuário né uma interface web que nos ajuda a ver o resultado de forma mais interativa e dinâmica tá pra não ter que ficar toda vez fazendo que via terminal a gente pode praticar essa parte inicial aqui utilizando o GRADE tá bom é bem verdade que o GRADE ele também é muito utilizado para trabalhar com aplicações de Machine Learning mas dado a sua simplicidade e facilidade você pode também aplicar nas aulas fundamentais em Python, tá bom pensando nisso eu vou dar um CTRL C, vamos agora criar o nosso próximo exemplo app underline texto .py então agora na ideia do meu app texto tá é que a gente possa inverter um texto então primeiro vou começar importando o GRADE sgr e eu vou criar a função reverter underline texto e aí eu vou passar um texto como parâmetro na verdade eu vou ter então aqui dentro dele o texto revertido que é igual pra eu inverter um texto a gente tem viu as aulas lá de string basicamente o passo dois pontos dois pontos menos um ele vai pegar o meu texto vai inverter ele beleza e aí eu quero retornar aqui o texto revertido e quero retornar também o tamanho do meu texto revertido beleza então se eu fizer aqui um teste agora dar um print reverter texto e eu passar aqui olá mundo olha só o que ele vai retornar pra gente python app underline t pressiono tab e porque se deixar só a pp pressiono tab ele pode pegar o soma que primeiro né e olha ele trouxe aqui ó o olá mundo inverteu e disse que ele tem nove caracteres é basicamente isso que eu quero ter só que a diferença que agora a gente vai ter que um criar na interface né então vou dar aqui um ponto e vírgula colocar aqui e aí agora eu vou criar minha interface igual e gr ponto interface você já sabe está familiarizado a função vai ser essa função reverter texto o input agora no input eu tenho apenas um que é um texto né e o texto ele tem que ser um text beleza já no output eu vou ter dois primeiro que é o texto revertido e o segundo é o tamanho do texto revertido então no primeiro eu digo como são dois eu passo entre uma lista que primeiro eu digo que é um texto e o segundo eu digo que é um nome é um número tá bom eu vou ter também o title reverso de texto e por último eu tenho aqui uma descripção insira um texto para rever telo e contar os caracteres bom perfeito depois disso então do que um i-face ponto launch perfeito pessoal então temos aqui o nosso exemplo bem simples está do grego e dado isso tendo feito isso aqui então eu posso dar ctrl l posso executar novamente comando anterior e aí agora ele vai criar a interface visual em uma aplicação web utilizando o grego e aí a gente pode testar aquilo que nós testamos agora a pouco no terminal vou atualizar aqui está aí reverso de texto não vejo do lado esquerdo input\n",
      "\n",
      "lado direito do Output, colocar aqui Olá Mundo, tá aí, ele inverteu aqui e trouxe dois caracteres, tá bom, aqui eu coloquei ponto, por isso ele considerou aqui, ó, dez caracteres, eu deixo só Olá Mundo, nove caracteres, tá bom, então mais um exemplo interessante pessoal, que a gente tem aqui de utilização do Gradle, tá, então eu vou colocar aqui Gradle é legal, então ele traz aqui também, ó, deixa aqui, inverte o texto e traz a contagem de caracteres, tá bom, beleza, vamos cancelar aqui a execução porque a gente tem mais um, uma aplicação para criar, né, que é a aplicação de fatorial, então vamos lá, eu vou importar aqui o Gradle, SGR, e vou importar o módulo nativo Math, e aí eu vou criar aqui a minha função fatorial, que vai receber um número, a verificação é, se esse número for menor do que zero, vou retornar, dá um return, fatorial não definido para números negativos, caso contrário, eu vou retornar o Math, ponto, factorial e passo num, beleza, então aqui eu estou utilizando o módulo nativo do Math, que ele tem uma função factorial, para ele calcular para mim isso aqui, beleza, então se eu chamar aqui, ó, fatorial de menos um, colocar isso dentro de um print, olha só o que ele vai retornar, lembrando que eu estou utilizando um número menor que zero, né, então Python app, neline fa, pressiono tab e dou um enter, vamos aguardar aqui enquanto ele retorna, ó, fatorial não definido para números negativos, vou alterar, vou deixar aqui número 5, vou executar novamente, e aí agora ele vai calcular o fatorial número 5, que é igual a 120, tá bom, vou dar um contraponto e vírgula, porque eu não quero utilizar no terminal, eu quero criar a interface, então iface igual gr.interface e aí eu passo aqui, ó, o fn igual a fatorial, passo o inputs, que é um number, é um número, o meu parâmetro ali, eu quero que seja um número, em relação ao outputs eu posso definir que seja um text, porque eu não vou fazer nada com esse número, então pode ser apenas em text mesmo, eu vou ter um title, calculadora de fatorial e vou ter uma description, insira um número para obter o fatorial, depois eu passo aqui o iface.launch, beleza, perfeito pessoal, vamos executar novamente, ok, vou executar aqui então, beleza pessoal, insira um número para obter o fatorial, número 6, submite, tá aí ó, 720, número menos 5, menor que zero, fatorial não definido para números negativos, tá bom, é exatamente por isso que a gente retornou aqui o input sendo um text, porque ele pode inserir um número menor que zero, e se ele inserir um número menor que zero, eu quero que ele retorne isso aqui, logo se o output fosse um numby, ele daria um erro, porque ele não ia conseguir retornar essa informação, tá bom, então como eu não vou realizar nenhum cálculo com esse valor aqui, eu posso deixar ele como um text, perfeito, beleza pessoal, então a ideia dessa aula foi criar três scripts, onde cada script a gente criava uma função, executava ela com print e mostrava como executar ela no python e como adaptar essa função para dentro da nossa interface web com o Gradle, tá bom, espero que você tenha aprendido e com base nessas aplicações que eu criei, você possa criar outras aplicações também sobre os fundamentos de Python.\n",
      "Human: Faça um resumo breve desse vídeo para mim\u001b[0m\n",
      "\n",
      "\u001b[1m> Finished chain.\u001b[0m\n",
      "\n",
      "\u001b[1m> Finished chain.\u001b[0m\n"
     ]
    },
    {
     "data": {
      "text/plain": [
       "'Neste vídeo, o instrutor abordou a biblioteca Gradio, que permite criar interfaces gráficas para aplicações web em Python. Foram apresentados exemplos práticos de como criar e integrar funções simples, como soma de números, inversão de texto e cálculo de fatorial, com a interface do Gradio. A ideia era mostrar como essa ferramenta pode ser usada de forma simples e eficaz, mesmo fora do contexto de machine learning. A aplicação prática demonstrou como é fácil e rápido criar e testar essas funcionalidades interativas em uma aplicação web. No final, sugeriu-se que o conhecimento adquirido poderia ser aplicado em diversos outros projetos baseados em Python.'"
      ]
     },
     "execution_count": 16,
     "metadata": {},
     "output_type": "execute_result"
    }
   ],
   "source": [
    "pergunta = \"Faça um resumo breve desse vídeo para mim\"\n",
    "chain.run(input_documents=docs, question=pergunta)"
   ]
  },
  {
   "cell_type": "markdown",
   "metadata": {},
   "source": [
    "### Web via URL"
   ]
  },
  {
   "cell_type": "code",
   "execution_count": 19,
   "metadata": {},
   "outputs": [],
   "source": [
    "from langchain_community.document_loaders.web_base import WebBaseLoader\n",
    "url = \"https://medium.com/ensina-ai/introdu%C3%A7%C3%A3o-a-processamento-de-linguagem-natural-174936c096b\"\n",
    "loader = WebBaseLoader(url)\n",
    "documents = loader.load()"
   ]
  },
  {
   "cell_type": "code",
   "execution_count": 20,
   "metadata": {},
   "outputs": [
    {
     "data": {
      "text/plain": [
       "1"
      ]
     },
     "execution_count": 20,
     "metadata": {},
     "output_type": "execute_result"
    }
   ],
   "source": [
    "len(documents)"
   ]
  },
  {
   "cell_type": "code",
   "execution_count": 21,
   "metadata": {},
   "outputs": [
    {
     "data": {
      "text/plain": [
       "'Introdução a Processamento de Linguagem Natural | by Rodrigo Macedo | Ensina.AI | MediumSitemapOpen in appSign upSign inMedium LogoWriteSign upSign inEnsina.AI·Tudo sobre Inteligência Artificial em PortuguêsIntrodução a Processamento de Linguagem NaturalRodrigo Macedo8 min read·Nov 2, 2018--SharePress enter or click to view image in full sizeFonte: http://www.polisconsulting.com.br/nlp-como-funciona-o-processamento-de-linguagem-natural/Você já deve ter ouvido falar sobre Processamento de Linguag'"
      ]
     },
     "execution_count": 21,
     "metadata": {},
     "output_type": "execute_result"
    }
   ],
   "source": [
    "documents[0].page_content[:500]"
   ]
  }
 ],
 "metadata": {
  "kernelspec": {
   "display_name": "env",
   "language": "python",
   "name": "python3"
  },
  "language_info": {
   "codemirror_mode": {
    "name": "ipython",
    "version": 3
   },
   "file_extension": ".py",
   "mimetype": "text/x-python",
   "name": "python",
   "nbconvert_exporter": "python",
   "pygments_lexer": "ipython3",
   "version": "3.12.7"
  }
 },
 "nbformat": 4,
 "nbformat_minor": 2
}
